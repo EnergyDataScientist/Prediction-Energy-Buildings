{
 "cells": [
  {
   "cell_type": "markdown",
   "metadata": {},
   "source": [
    "# Projet 3 : Anticipez les besoins en consommation électrique de bâtiments"
   ]
  },
  {
   "cell_type": "markdown",
   "metadata": {},
   "source": [
    "Ce projet consiste à l'analyse de données d'énergie et de CO2 de bâtiments non destinés à l'habitation. Le but de se projet est de créer un modèle pour estimer les consommation d'énergie ainsi que les émissions de CO2 de bâtiment pour lesquels les mesures n'ont pas encore été effectuées. Les données viennent de la ville de Seattle https://www.kaggle.com/city-of-seattle/sea-building-energy-benchmarking#2015-building-energy-benchmarking.csv.\n",
    "\n",
    "Le but est de prédire les variables : GHGEmissions(MetricTonsCO2e) et SiteEnergyUse(kBtu)"
   ]
  },
  {
   "cell_type": "markdown",
   "metadata": {},
   "source": [
    "Plus de documentation : \n",
    "\n",
    "http://www.seattle.gov/environment/climate-change/buildings-and-energy/energy-benchmarking"
   ]
  },
  {
   "cell_type": "markdown",
   "metadata": {},
   "source": [
    "## Notebook 2 : Modélisation"
   ]
  },
  {
   "cell_type": "code",
   "execution_count": 1,
   "metadata": {},
   "outputs": [],
   "source": [
    "import pandas as pd\n",
    "import numpy as np\n",
    "import matplotlib.pyplot as plt\n",
    "import seaborn as sns\n",
    "\n",
    "# Pipeline\n",
    "from sklearn.pipeline import Pipeline\n",
    "from sklearn.impute import SimpleImputer, KNNImputer\n",
    "from sklearn.preprocessing import StandardScaler, OneHotEncoder\n",
    "from sklearn.compose import ColumnTransformer\n",
    "import category_encoders as ce\n",
    "\n",
    "# Modèles\n",
    "from sklearn import linear_model\n",
    "from sklearn.ensemble import RandomForestRegressor, GradientBoostingRegressor\n",
    "from sklearn.dummy import DummyRegressor\n",
    "\n",
    "# Evaluation\n",
    "from sklearn.model_selection import cross_validate, GridSearchCV, RandomizedSearchCV, StratifiedKFold\n",
    "from sklearn.inspection import permutation_importance\n",
    "from sklearn.metrics import r2_score"
   ]
  },
  {
   "cell_type": "code",
   "execution_count": 2,
   "metadata": {},
   "outputs": [],
   "source": [
    "seed = 0"
   ]
  },
  {
   "cell_type": "markdown",
   "metadata": {},
   "source": [
    "## Chargement des données"
   ]
  },
  {
   "cell_type": "code",
   "execution_count": 3,
   "metadata": {},
   "outputs": [],
   "source": [
    "X_train_knn = pd.read_csv('data/X_train_knn.csv', sep=';')\n",
    "X_test_knn = pd.read_csv('data/X_test_knn.csv', sep=';')\n",
    "y_train_knn = pd.read_csv('data/y_train_knn.csv', sep=';')\n",
    "y_test_knn = pd.read_csv('data/y_test_knn.csv', sep=';')"
   ]
  },
  {
   "cell_type": "code",
   "execution_count": 4,
   "metadata": {},
   "outputs": [
    {
     "name": "stdout",
     "output_type": "stream",
     "text": [
      "X_train_knn : (1252, 15)\n",
      "X_test_knn : (313, 15)\n",
      "y_train_knn : (1252, 2)\n",
      "y_test_knn : (313, 2)\n"
     ]
    }
   ],
   "source": [
    "print(f'X_train_knn : {X_train_knn.shape}')\n",
    "print(f'X_test_knn : {X_test_knn.shape}')\n",
    "print(f'y_train_knn : {y_train_knn.shape}')\n",
    "print(f'y_test_knn : {y_test_knn.shape}')"
   ]
  },
  {
   "cell_type": "markdown",
   "metadata": {},
   "source": [
    "On définit dans un premier temps les variables catégoriques et numériques."
   ]
  },
  {
   "cell_type": "code",
   "execution_count": 5,
   "metadata": {},
   "outputs": [],
   "source": [
    "X_train_knn.loc[:,'ZipCode'] = X_train_knn.loc[:,'ZipCode'].astype('object')\n",
    "#X_train_knn.loc[:,'Gas'] = X_train_knn.loc[:,'Gas'].astype('object')\n",
    "#X_train_knn.loc[:,'Steam'] = X_train_knn.loc[:,'Steam'].astype('object')"
   ]
  },
  {
   "cell_type": "code",
   "execution_count": 6,
   "metadata": {},
   "outputs": [
    {
     "name": "stdout",
     "output_type": "stream",
     "text": [
      "<class 'pandas.core.frame.DataFrame'>\n",
      "RangeIndex: 1252 entries, 0 to 1251\n",
      "Data columns (total 15 columns):\n",
      " #   Column                     Non-Null Count  Dtype  \n",
      "---  ------                     --------------  -----  \n",
      " 0   PrimaryPropertyType        1252 non-null   object \n",
      " 1   CouncilDistrictCode        1252 non-null   float64\n",
      " 2   Neighborhood               1252 non-null   object \n",
      " 3   PropertyGFATotal           1252 non-null   float64\n",
      " 4   PropertyGFAParking         1252 non-null   float64\n",
      " 5   PropertyGFABuilding(s)     1252 non-null   float64\n",
      " 6   LargestPropertyUseTypeGFA  1252 non-null   float64\n",
      " 7   ENERGYSTARScore            1252 non-null   float64\n",
      " 8   NumberofFloors             1252 non-null   float64\n",
      " 9   Latitude                   1252 non-null   float64\n",
      " 10  Longitude                  1252 non-null   float64\n",
      " 11  ZipCode                    1252 non-null   object \n",
      " 12  Gas                        1252 non-null   float64\n",
      " 13  Steam                      1252 non-null   float64\n",
      " 14  BuildingAge                1252 non-null   float64\n",
      "dtypes: float64(12), object(3)\n",
      "memory usage: 146.8+ KB\n"
     ]
    }
   ],
   "source": [
    "X_train_knn.info()"
   ]
  },
  {
   "cell_type": "code",
   "execution_count": 7,
   "metadata": {},
   "outputs": [
    {
     "name": "stdout",
     "output_type": "stream",
     "text": [
      "<class 'pandas.core.frame.DataFrame'>\n",
      "RangeIndex: 1252 entries, 0 to 1251\n",
      "Data columns (total 2 columns):\n",
      " #   Column                        Non-Null Count  Dtype  \n",
      "---  ------                        --------------  -----  \n",
      " 0   SiteEnergyUse(kBtu)           1252 non-null   float64\n",
      " 1   GHGEmissions(MetricTonsCO2e)  1252 non-null   float64\n",
      "dtypes: float64(2)\n",
      "memory usage: 19.7 KB\n"
     ]
    }
   ],
   "source": [
    "y_train_knn.info()"
   ]
  },
  {
   "cell_type": "markdown",
   "metadata": {},
   "source": [
    "## Modélisation de la consommation d'énergie"
   ]
  },
  {
   "cell_type": "markdown",
   "metadata": {},
   "source": [
    "### Sélection des données"
   ]
  },
  {
   "cell_type": "markdown",
   "metadata": {},
   "source": [
    "Dans un premier temps on fait une copie des variables."
   ]
  },
  {
   "cell_type": "code",
   "execution_count": 8,
   "metadata": {},
   "outputs": [],
   "source": [
    "X_train = X_train_knn.copy()\n",
    "X_test = X_test_knn.copy()\n",
    "y_train = y_train_knn.copy()\n",
    "y_test = y_test_knn.copy()"
   ]
  },
  {
   "cell_type": "markdown",
   "metadata": {},
   "source": [
    "On supprime la variable ENERGYSTARScore."
   ]
  },
  {
   "cell_type": "code",
   "execution_count": 9,
   "metadata": {},
   "outputs": [],
   "source": [
    "X_train = X_train.drop(axis='columns', columns='ENERGYSTARScore')\n",
    "X_test = X_test.drop(axis='columns', columns='ENERGYSTARScore')"
   ]
  },
  {
   "cell_type": "markdown",
   "metadata": {},
   "source": [
    "On supprime la variable CO2."
   ]
  },
  {
   "cell_type": "code",
   "execution_count": 10,
   "metadata": {},
   "outputs": [],
   "source": [
    "y_train = y_train.drop(axis='columns', columns='GHGEmissions(MetricTonsCO2e)')\n",
    "y_test = y_test.drop(axis='columns', columns='GHGEmissions(MetricTonsCO2e)')"
   ]
  },
  {
   "cell_type": "markdown",
   "metadata": {},
   "source": [
    "On convertit ensuite les sorties y en np.ndarray"
   ]
  },
  {
   "cell_type": "code",
   "execution_count": 11,
   "metadata": {},
   "outputs": [],
   "source": [
    "y_train = y_train.to_numpy().ravel()\n",
    "y_test = y_test.to_numpy().ravel()"
   ]
  },
  {
   "cell_type": "markdown",
   "metadata": {},
   "source": [
    ".to_numpy() permet de passer d'un dataframe à un np.ndarray\n",
    "\n",
    ".ravel() permet de changer l'attribut shape passant de (x,1) à (x,)"
   ]
  },
  {
   "cell_type": "code",
   "execution_count": 12,
   "metadata": {},
   "outputs": [
    {
     "data": {
      "text/plain": [
       "(313,)"
      ]
     },
     "execution_count": 12,
     "metadata": {},
     "output_type": "execute_result"
    }
   ],
   "source": [
    "y_test.shape"
   ]
  },
  {
   "cell_type": "markdown",
   "metadata": {},
   "source": [
    "### Modèles à tester"
   ]
  },
  {
   "cell_type": "markdown",
   "metadata": {},
   "source": [
    "On définit une liste des modèles que l'on va tester pour faire de la régression linéaire."
   ]
  },
  {
   "cell_type": "code",
   "execution_count": 13,
   "metadata": {},
   "outputs": [],
   "source": [
    "regressors = [\n",
    "    DummyRegressor(strategy='mean'),\n",
    "    linear_model.LinearRegression(),\n",
    "    linear_model.Ridge(random_state=seed),\n",
    "    linear_model.Lasso(random_state=seed),\n",
    "    RandomForestRegressor(random_state=seed),\n",
    "    GradientBoostingRegressor(random_state=seed)\n",
    "    ]\n"
   ]
  },
  {
   "cell_type": "markdown",
   "metadata": {},
   "source": [
    "### Preprocessing"
   ]
  },
  {
   "cell_type": "markdown",
   "metadata": {},
   "source": [
    "Les données ne peuvent pas être utilisées directement par les modèles car :\n",
    "* les variables catégorielles sont composées de texte\n",
    "* les variables numériques n'ont pas la même échelle\n",
    "\n",
    "On applique donc :\n",
    "* un encodage pour les variables catégorielles\n",
    "* une normalisation pour les variables numériques"
   ]
  },
  {
   "cell_type": "code",
   "execution_count": 14,
   "metadata": {},
   "outputs": [],
   "source": [
    "numeric_features = X_train.select_dtypes(include=['int64', 'float64']).columns\n",
    "categorical_features = X_train.select_dtypes(include=['object']).columns\n",
    "\n",
    "numeric_transformer = Pipeline(steps=[('scaler', StandardScaler())])\n",
    "categorical_transformer = Pipeline(steps=[('onehot', OneHotEncoder(handle_unknown='ignore'))])\n",
    "\n",
    "preprocessor = ColumnTransformer(transformers=[\n",
    "        ('num', numeric_transformer, numeric_features),\n",
    "        ('cat', categorical_transformer, categorical_features)])"
   ]
  },
  {
   "cell_type": "markdown",
   "metadata": {},
   "source": [
    "### Evaluation"
   ]
  },
  {
   "cell_type": "markdown",
   "metadata": {},
   "source": [
    "Pour evaluer les modèles entre eux nous allons effectuer une cross validation avec 5 folds. \n",
    "Cela signifie que l'on va entrainer puis prédire 5 fois de suite avec des jeu de données différents. Cela permet de s'assurer de la stabilité du score lorsque le jeu de données change. Nous allons stocker les résultats moyens dans deux dataframes un pour le score et l'autre pour le temps d'excecution."
   ]
  },
  {
   "cell_type": "code",
   "execution_count": 15,
   "metadata": {},
   "outputs": [],
   "source": [
    "df_score = pd.DataFrame(columns=['model','r2','score'])\n",
    "df_time = pd.DataFrame(columns=['model','temps en s','time'])"
   ]
  },
  {
   "cell_type": "markdown",
   "metadata": {},
   "source": [
    "On effectue ensuite une cross validation pour chaque élément de la liste de modèles. "
   ]
  },
  {
   "cell_type": "code",
   "execution_count": 16,
   "metadata": {
    "scrolled": false
   },
   "outputs": [
    {
     "name": "stdout",
     "output_type": "stream",
     "text": [
      "DummyRegressor\n",
      "validation score : -0.006\n",
      "LinearRegression\n",
      "validation score : 0.683\n",
      "Ridge(random_state=\n",
      "validation score : 0.703\n",
      "Lasso(random_state=\n"
     ]
    },
    {
     "name": "stderr",
     "output_type": "stream",
     "text": [
      "/home/hugo/anaconda3/envs/projet3/lib/python3.8/site-packages/sklearn/linear_model/_coordinate_descent.py:512: ConvergenceWarning: Objective did not converge. You might want to increase the number of iterations. Duality gap: 814372073774152.0, tolerance: 35047756907383.72\n",
      "  model = cd_fast.sparse_enet_coordinate_descent(\n",
      "/home/hugo/anaconda3/envs/projet3/lib/python3.8/site-packages/sklearn/linear_model/_coordinate_descent.py:512: ConvergenceWarning: Objective did not converge. You might want to increase the number of iterations. Duality gap: 2301761922626336.0, tolerance: 31239269235905.54\n",
      "  model = cd_fast.sparse_enet_coordinate_descent(\n",
      "/home/hugo/anaconda3/envs/projet3/lib/python3.8/site-packages/sklearn/linear_model/_coordinate_descent.py:512: ConvergenceWarning: Objective did not converge. You might want to increase the number of iterations. Duality gap: 3086272777261872.0, tolerance: 29603774607913.54\n",
      "  model = cd_fast.sparse_enet_coordinate_descent(\n",
      "/home/hugo/anaconda3/envs/projet3/lib/python3.8/site-packages/sklearn/linear_model/_coordinate_descent.py:512: ConvergenceWarning: Objective did not converge. You might want to increase the number of iterations. Duality gap: 8051092063209708.0, tolerance: 29728064729878.816\n",
      "  model = cd_fast.sparse_enet_coordinate_descent(\n",
      "/home/hugo/anaconda3/envs/projet3/lib/python3.8/site-packages/sklearn/linear_model/_coordinate_descent.py:512: ConvergenceWarning: Objective did not converge. You might want to increase the number of iterations. Duality gap: 5452097270259704.0, tolerance: 38917205595893.85\n",
      "  model = cd_fast.sparse_enet_coordinate_descent(\n"
     ]
    },
    {
     "name": "stdout",
     "output_type": "stream",
     "text": [
      "validation score : 0.683\n",
      "RandomForestRegressor(random_state=\n",
      "validation score : 0.677\n",
      "GradientBoostingRegressor(random_state=\n",
      "validation score : 0.730\n"
     ]
    }
   ],
   "source": [
    "for i, regressor in zip(range(0,len(regressors)*2,2), regressors):\n",
    "    model_name = str(regressor)[:-2]\n",
    "    print(model_name)\n",
    "    model = Pipeline(steps=[('preprocessor', preprocessor),('regressor', regressor)])\n",
    "    cv_results = cross_validate(model, X_train, y_train, scoring='r2', cv=5, return_train_score=True)\n",
    "    # On stocke les résultats\n",
    "    df_score.loc[i] = [model_name,cv_results['train_score'].mean(),'train']\n",
    "    df_score.loc[i+1] = [model_name,cv_results['test_score'].mean(),'validation']\n",
    "    df_time.loc[i] = [model_name,cv_results['fit_time'].mean(),'fit']\n",
    "    df_time.loc[i+1] = [model_name,cv_results['score_time'].mean(),'score']\n",
    "    print(\"validation score : %.3f\" % cv_results['test_score'].mean())"
   ]
  },
  {
   "cell_type": "markdown",
   "metadata": {},
   "source": [
    "On peut maintenant visualiser les résultats. "
   ]
  },
  {
   "cell_type": "code",
   "execution_count": 17,
   "metadata": {},
   "outputs": [
    {
     "data": {
      "text/plain": [
       "<matplotlib.axes._subplots.AxesSubplot at 0x7f48d62786a0>"
      ]
     },
     "execution_count": 17,
     "metadata": {},
     "output_type": "execute_result"
    },
    {
     "data": {
      "image/png": "[encoded data removed]",
      "text/plain": [
       "<Figure size 432x288 with 1 Axes>"
      ]
     },
     "metadata": {
      "needs_background": "light"
     },
     "output_type": "display_data"
    }
   ],
   "source": [
    "sns.barplot(x='r2', y='model', hue='score', data=df_score)"
   ]
  },
  {
   "cell_type": "code",
   "execution_count": 18,
   "metadata": {},
   "outputs": [
    {
     "data": {
      "text/plain": [
       "[None]"
      ]
     },
     "execution_count": 18,
     "metadata": {},
     "output_type": "execute_result"
    },
    {
     "data": {
      "image/png": "[encoded data removed]",
      "text/plain": [
       "<Figure size 432x288 with 1 Axes>"
      ]
     },
     "metadata": {
      "needs_background": "light"
     },
     "output_type": "display_data"
    }
   ],
   "source": [
    "g = sns.barplot(x='temps en s', y='model', hue='time', data=df_time)\n",
    "g.set(xscale=\"log\")"
   ]
  },
  {
   "cell_type": "markdown",
   "metadata": {},
   "source": [
    "Les modèles obtenant le meilleur r2 sont les modèles de regression ridge et de gradient boosting. D'un point de vue temps de calcul et temps d'excécution les résultats sont très dispersés, il faut même utiliser une échelle logarithmique pour pouvoir comparer les résultats. Le modèle de random forest est le plus lourd en temps de calcul. Ensuite viennent les modèles gradient boosting et lasso. Enfin, les modèles de regression linéaire et ridge sont bien plus léger, ils sont de 10 à 100 fois plus rapides."
   ]
  },
  {
   "cell_type": "markdown",
   "metadata": {},
   "source": [
    "On peut donc conclure que les deux modèles que nous allons étudier en détails sont :\n",
    "* Ridge\n",
    "* Gradient Boosting"
   ]
  },
  {
   "cell_type": "markdown",
   "metadata": {},
   "source": [
    "### Comparaison des meilleurs modèles"
   ]
  },
  {
   "cell_type": "markdown",
   "metadata": {},
   "source": [
    "Pour l'optimisation on utilise la fonction GridSearchCV qui permet de tester une liste d'hyper-paramètres en cross validation. \n",
    "\n",
    "Remarque : le nom du parametre doit commencer par nom du modèle + __ lorsque l'on utilise pipeline. ex : model__alpha"
   ]
  },
  {
   "cell_type": "code",
   "execution_count": 19,
   "metadata": {},
   "outputs": [],
   "source": [
    "grid_list = []"
   ]
  },
  {
   "cell_type": "markdown",
   "metadata": {},
   "source": [
    "#### Ridge"
   ]
  },
  {
   "cell_type": "markdown",
   "metadata": {},
   "source": [
    "Documentation : https://scikit-learn.org/stable/modules/generated/sklearn.linear_model.Ridge.html"
   ]
  },
  {
   "cell_type": "code",
   "execution_count": 20,
   "metadata": {},
   "outputs": [],
   "source": [
    "ri_pipeline = Pipeline(steps=[('preprocessor', preprocessor),('model', linear_model.Ridge(random_state=seed))])"
   ]
  },
  {
   "cell_type": "code",
   "execution_count": 21,
   "metadata": {
    "scrolled": true
   },
   "outputs": [
    {
     "data": {
      "text/plain": [
       "{'alpha': 1.0,\n",
       " 'copy_X': True,\n",
       " 'fit_intercept': True,\n",
       " 'max_iter': None,\n",
       " 'normalize': False,\n",
       " 'random_state': 0,\n",
       " 'solver': 'auto',\n",
       " 'tol': 0.001}"
      ]
     },
     "execution_count": 21,
     "metadata": {},
     "output_type": "execute_result"
    }
   ],
   "source": [
    "ri_pipeline['model'].get_params()"
   ]
  },
  {
   "cell_type": "markdown",
   "metadata": {},
   "source": [
    "On sélectionne différentes valeurs pour les hyper-paramètres. Toutes les combinaisons seront testées."
   ]
  },
  {
   "cell_type": "code",
   "execution_count": 22,
   "metadata": {},
   "outputs": [],
   "source": [
    "param_grid = {\n",
    "    'model__alpha': [0.1, 0.5, 1.0, 5, 10.0],\n",
    "    'model__fit_intercept': [True, False]\n",
    "}"
   ]
  },
  {
   "cell_type": "markdown",
   "metadata": {},
   "source": [
    "On effectue GridSearchCV et on stocke les résultats dans une liste."
   ]
  },
  {
   "cell_type": "code",
   "execution_count": 23,
   "metadata": {
    "scrolled": true
   },
   "outputs": [],
   "source": [
    "grid = GridSearchCV(ri_pipeline, param_grid, scoring='r2', cv=5, return_train_score=True)\n",
    "grid.fit(X_train, y_train)\n",
    "grid_list.append(grid)"
   ]
  },
  {
   "cell_type": "markdown",
   "metadata": {},
   "source": [
    "#### Gradient Boosting"
   ]
  },
  {
   "cell_type": "markdown",
   "metadata": {},
   "source": [
    "https://scikit-learn.org/stable/modules/generated/sklearn.ensemble.GradientBoostingRegressor.html"
   ]
  },
  {
   "cell_type": "code",
   "execution_count": 24,
   "metadata": {},
   "outputs": [],
   "source": [
    "gb_pipeline = Pipeline(steps=[('preprocessor', preprocessor),('model', GradientBoostingRegressor(random_state=seed))])"
   ]
  },
  {
   "cell_type": "markdown",
   "metadata": {},
   "source": [
    "Il existe de nombreux hyper-paramètres pour le model de gradient boosting."
   ]
  },
  {
   "cell_type": "code",
   "execution_count": 25,
   "metadata": {
    "scrolled": true
   },
   "outputs": [
    {
     "data": {
      "text/plain": [
       "{'alpha': 0.9,\n",
       " 'ccp_alpha': 0.0,\n",
       " 'criterion': 'friedman_mse',\n",
       " 'init': None,\n",
       " 'learning_rate': 0.1,\n",
       " 'loss': 'ls',\n",
       " 'max_depth': 3,\n",
       " 'max_features': None,\n",
       " 'max_leaf_nodes': None,\n",
       " 'min_impurity_decrease': 0.0,\n",
       " 'min_impurity_split': None,\n",
       " 'min_samples_leaf': 1,\n",
       " 'min_samples_split': 2,\n",
       " 'min_weight_fraction_leaf': 0.0,\n",
       " 'n_estimators': 100,\n",
       " 'n_iter_no_change': None,\n",
       " 'presort': 'deprecated',\n",
       " 'random_state': 0,\n",
       " 'subsample': 1.0,\n",
       " 'tol': 0.0001,\n",
       " 'validation_fraction': 0.1,\n",
       " 'verbose': 0,\n",
       " 'warm_start': False}"
      ]
     },
     "execution_count": 25,
     "metadata": {},
     "output_type": "execute_result"
    }
   ],
   "source": [
    "gb_pipeline['model'].get_params()"
   ]
  },
  {
   "cell_type": "markdown",
   "metadata": {},
   "source": [
    "On sélectionne les hyper-paramètres suivant :"
   ]
  },
  {
   "cell_type": "code",
   "execution_count": 26,
   "metadata": {},
   "outputs": [],
   "source": [
    "param_grid = {\n",
    "    'model__max_depth': [None, 5, 10],    \n",
    "    'model__max_features': ['auto', 'sqrt'],\n",
    "    'model__min_samples_leaf': [1, 5, 10],\n",
    "    'model__min_samples_split': [2, 10, 20],\n",
    "    'model__n_estimators': [50, 100, 150]\n",
    "}"
   ]
  },
  {
   "cell_type": "markdown",
   "metadata": {},
   "source": [
    "On effectue GridSearchCV et on stocke les résultats dans une liste."
   ]
  },
  {
   "cell_type": "code",
   "execution_count": 27,
   "metadata": {
    "scrolled": true
   },
   "outputs": [],
   "source": [
    "grid = GridSearchCV(gb_pipeline, param_grid, scoring='r2', cv=5, return_train_score=True)\n",
    "grid.fit(X_train, y_train)\n",
    "grid_list.append(grid)"
   ]
  },
  {
   "cell_type": "markdown",
   "metadata": {},
   "source": [
    "On écrit une fonction qui va retourner le meilleur score de cross-validation pour chaque modèle. Cette fonction retourne les résultats sous forme de dataframe."
   ]
  },
  {
   "cell_type": "code",
   "execution_count": 28,
   "metadata": {},
   "outputs": [],
   "source": [
    "def best_grid(grid_list):\n",
    "    df_score = pd.DataFrame(columns=['model','r2','score'])\n",
    "    df_time = pd.DataFrame(columns=['model','temps en s','time'])\n",
    "    \n",
    "    for i, grid in zip(range(0,len(grid_list)*2,2), grid_list):\n",
    "        best_model = grid.best_estimator_\n",
    "        model_name = str(best_model['model']).split('(')[0]\n",
    "        print(model_name)\n",
    "        best_model_index = grid.best_index_\n",
    "        train_score = grid.cv_results_['mean_train_score'][best_model_index]\n",
    "        test_score = grid.cv_results_['mean_test_score'][best_model_index]\n",
    "        fit_time = grid.cv_results_['mean_fit_time'][best_model_index]\n",
    "        score_time = grid.cv_results_['mean_score_time'][best_model_index]\n",
    "        # On stocke les résultats\n",
    "        df_score.loc[i] = [model_name,train_score,'train']\n",
    "        df_score.loc[i+1] = [model_name,test_score,'validation']\n",
    "        df_time.loc[i] = [model_name,fit_time,'fit']\n",
    "        df_time.loc[i+1] = [model_name,score_time,'score']\n",
    "        print(\"Meilleur score validation : %.3f\" % df_score.loc[i+1,'r2'])\n",
    "\n",
    "    return df_score, df_time"
   ]
  },
  {
   "cell_type": "code",
   "execution_count": 29,
   "metadata": {
    "scrolled": false
   },
   "outputs": [
    {
     "name": "stdout",
     "output_type": "stream",
     "text": [
      "Ridge\n",
      "Meilleur score validation : 0.703\n",
      "GradientBoostingRegressor\n",
      "Meilleur score validation : 0.739\n"
     ]
    }
   ],
   "source": [
    "df_score, df_time = best_grid(grid_list)"
   ]
  },
  {
   "cell_type": "markdown",
   "metadata": {},
   "source": [
    "On peut maintenant visualiser les meilleurs résultats moyens obtenus pour chaque modèle."
   ]
  },
  {
   "cell_type": "code",
   "execution_count": 30,
   "metadata": {},
   "outputs": [
    {
     "data": {
      "text/plain": [
       "<matplotlib.axes._subplots.AxesSubplot at 0x7f48d56b9fd0>"
      ]
     },
     "execution_count": 30,
     "metadata": {},
     "output_type": "execute_result"
    },
    {
     "data": {
      "image/png": "[encoded data removed]",
      "text/plain": [
       "<Figure size 432x288 with 1 Axes>"
      ]
     },
     "metadata": {
      "needs_background": "light"
     },
     "output_type": "display_data"
    }
   ],
   "source": [
    "sns.barplot(x='r2', y='model', hue='score', data=df_score)"
   ]
  },
  {
   "cell_type": "code",
   "execution_count": 31,
   "metadata": {},
   "outputs": [
    {
     "data": {
      "text/plain": [
       "[None]"
      ]
     },
     "execution_count": 31,
     "metadata": {},
     "output_type": "execute_result"
    },
    {
     "data": {
      "image/png": "[encoded data removed]",
      "text/plain": [
       "<Figure size 432x288 with 1 Axes>"
      ]
     },
     "metadata": {
      "needs_background": "light"
     },
     "output_type": "display_data"
    }
   ],
   "source": [
    "g = sns.barplot(x='temps en s', y='model', hue='time', data=df_time)\n",
    "g.set(xscale=\"log\")"
   ]
  },
  {
   "cell_type": "markdown",
   "metadata": {},
   "source": [
    "On constate donc que le modèle ayant le meilleur score de validation est le modèle de gradient boosting. Pour avoir une idée des meilleurs hyper-paramètres ont peut afficher ceux qui ont été utilisés pour obtenir le meilleur score."
   ]
  },
  {
   "cell_type": "code",
   "execution_count": 32,
   "metadata": {},
   "outputs": [
    {
     "data": {
      "text/plain": [
       "{'alpha': 0.9,\n",
       " 'ccp_alpha': 0.0,\n",
       " 'criterion': 'friedman_mse',\n",
       " 'init': None,\n",
       " 'learning_rate': 0.1,\n",
       " 'loss': 'ls',\n",
       " 'max_depth': 5,\n",
       " 'max_features': 'sqrt',\n",
       " 'max_leaf_nodes': None,\n",
       " 'min_impurity_decrease': 0.0,\n",
       " 'min_impurity_split': None,\n",
       " 'min_samples_leaf': 1,\n",
       " 'min_samples_split': 2,\n",
       " 'min_weight_fraction_leaf': 0.0,\n",
       " 'n_estimators': 150,\n",
       " 'n_iter_no_change': None,\n",
       " 'presort': 'deprecated',\n",
       " 'random_state': 0,\n",
       " 'subsample': 1.0,\n",
       " 'tol': 0.0001,\n",
       " 'validation_fraction': 0.1,\n",
       " 'verbose': 0,\n",
       " 'warm_start': False}"
      ]
     },
     "execution_count": 32,
     "metadata": {},
     "output_type": "execute_result"
    }
   ],
   "source": [
    "grid_list[1].best_estimator_['model'].get_params()"
   ]
  },
  {
   "cell_type": "code",
   "execution_count": 33,
   "metadata": {},
   "outputs": [
    {
     "data": {
      "text/plain": [
       "{'model__max_depth': 5,\n",
       " 'model__max_features': 'sqrt',\n",
       " 'model__min_samples_leaf': 1,\n",
       " 'model__min_samples_split': 2,\n",
       " 'model__n_estimators': 150}"
      ]
     },
     "execution_count": 33,
     "metadata": {},
     "output_type": "execute_result"
    }
   ],
   "source": [
    "grid_list[1].best_params_"
   ]
  },
  {
   "cell_type": "markdown",
   "metadata": {},
   "source": [
    "On stocke ce modèle."
   ]
  },
  {
   "cell_type": "code",
   "execution_count": 34,
   "metadata": {},
   "outputs": [],
   "source": [
    "model_gridcv = GradientBoostingRegressor(max_depth=grid_list[1].best_params_['model__max_depth'],\n",
    "                                         max_features=grid_list[1].best_params_['model__max_features'],\n",
    "                                         min_samples_leaf=grid_list[1].best_params_['model__min_samples_leaf'],\n",
    "                                         min_samples_split=grid_list[1].best_params_['model__min_samples_split'],\n",
    "                                         n_estimators=grid_list[1].best_params_['model__n_estimators'],\n",
    "                                         random_state=seed)"
   ]
  },
  {
   "cell_type": "markdown",
   "metadata": {},
   "source": [
    "### Optimisation du meilleur modèle"
   ]
  },
  {
   "cell_type": "markdown",
   "metadata": {},
   "source": [
    "On sait maintenant que parmis nos 6 modèles de départ le modèle de gradient boosting permet d'obtenir le meilleur score. On connait également une combinaison d'hyper-paramètres qui permet d'avoir un bon score. On va donc maintenant essayer d'obtenir un meilleur score de cross-validation en cherchant à pousser l'optimisation en 3 étapes :\n",
    "* Optimisation de l'encodage\n",
    "* Optimisation plus complète des hyper-paramètres\n",
    "* Optimisation des features"
   ]
  },
  {
   "cell_type": "markdown",
   "metadata": {},
   "source": [
    "doc très intéressant : https://medium.com/kaggle-blog/2017-data-science-bowl-predicting-lung-cancer-2nd-place-solution-write-up-daniel-hammack-and-79dc345d4541"
   ]
  },
  {
   "cell_type": "markdown",
   "metadata": {},
   "source": [
    "#### Etape 1 :  Optimisation de l'encodage des variables catégoriques"
   ]
  },
  {
   "cell_type": "markdown",
   "metadata": {},
   "source": [
    "Il existe de nombreuses méthodes pour faire de l'encodage de variable catégoriques. Les plus connues sont :\n",
    "* Ordinal\n",
    "* One Hot\n",
    "\n",
    "Plus d'informations : https://pypi.org/project/category-encoders/\n",
    "\n",
    "https://www.analyticsvidhya.com/blog/2020/08/types-of-categorical-data-encoding/\n",
    "\n",
    "https://towardsdatascience.com/an-easier-way-to-encode-categorical-features-d840ff6b3900"
   ]
  },
  {
   "cell_type": "markdown",
   "metadata": {},
   "source": [
    "Nous allons utiliser la librairie category-encoder et essayer différentes méthodes sur la variable Neighborhood."
   ]
  },
  {
   "cell_type": "code",
   "execution_count": 35,
   "metadata": {},
   "outputs": [
    {
     "name": "stdout",
     "output_type": "stream",
     "text": [
      "0                NORTHWEST\n",
      "1                 DOWNTOWN\n",
      "2         GREATER DUWAMISH\n",
      "3    MAGNOLIA / QUEEN ANNE\n",
      "4                     EAST\n",
      "5                    NORTH\n",
      "6                 DOWNTOWN\n",
      "Name: Neighborhood, dtype: object\n"
     ]
    }
   ],
   "source": [
    "X = X_train_knn['Neighborhood'].head(n=7)\n",
    "print(X)"
   ]
  },
  {
   "cell_type": "markdown",
   "metadata": {},
   "source": [
    "##### Ordinal encoder"
   ]
  },
  {
   "cell_type": "markdown",
   "metadata": {},
   "source": [
    "La méthode Ordinal stocke l'information sur 1 seule colonne. Chaque catégorie est remplacée par un nombre entier."
   ]
  },
  {
   "cell_type": "code",
   "execution_count": 36,
   "metadata": {},
   "outputs": [
    {
     "data": {
      "text/html": [
       "<div>\n",
       "<style scoped>\n",
       "    .dataframe tbody tr th:only-of-type {\n",
       "        vertical-align: middle;\n",
       "    }\n",
       "\n",
       "    .dataframe tbody tr th {\n",
       "        vertical-align: top;\n",
       "    }\n",
       "\n",
       "    .dataframe thead th {\n",
       "        text-align: right;\n",
       "    }\n",
       "</style>\n",
       "<table border=\"1\" class=\"dataframe\">\n",
       "  <thead>\n",
       "    <tr style=\"text-align: right;\">\n",
       "      <th></th>\n",
       "      <th>Neighborhood</th>\n",
       "    </tr>\n",
       "  </thead>\n",
       "  <tbody>\n",
       "    <tr>\n",
       "      <th>0</th>\n",
       "      <td>1</td>\n",
       "    </tr>\n",
       "    <tr>\n",
       "      <th>1</th>\n",
       "      <td>2</td>\n",
       "    </tr>\n",
       "    <tr>\n",
       "      <th>2</th>\n",
       "      <td>3</td>\n",
       "    </tr>\n",
       "    <tr>\n",
       "      <th>3</th>\n",
       "      <td>4</td>\n",
       "    </tr>\n",
       "    <tr>\n",
       "      <th>4</th>\n",
       "      <td>5</td>\n",
       "    </tr>\n",
       "    <tr>\n",
       "      <th>5</th>\n",
       "      <td>6</td>\n",
       "    </tr>\n",
       "    <tr>\n",
       "      <th>6</th>\n",
       "      <td>2</td>\n",
       "    </tr>\n",
       "  </tbody>\n",
       "</table>\n",
       "</div>"
      ],
      "text/plain": [
       "   Neighborhood\n",
       "0             1\n",
       "1             2\n",
       "2             3\n",
       "3             4\n",
       "4             5\n",
       "5             6\n",
       "6             2"
      ]
     },
     "execution_count": 36,
     "metadata": {},
     "output_type": "execute_result"
    }
   ],
   "source": [
    "encoder = ce.ordinal.OrdinalEncoder()\n",
    "encoder.fit_transform(X)"
   ]
  },
  {
   "cell_type": "markdown",
   "metadata": {},
   "source": [
    "Caractéristiques : \n",
    "* Avantage : utilise une seule colonne\n",
    "* Inconvénient : créé une relation d'ordre entre les catégories ce qui peut être pénalisant en fonction du modèle utilisé."
   ]
  },
  {
   "cell_type": "markdown",
   "metadata": {},
   "source": [
    "##### One Hot Encoder"
   ]
  },
  {
   "cell_type": "markdown",
   "metadata": {},
   "source": [
    "La méthode One Hot stocke l'information sur k colonnes, k étant le nombre de catégories. L'information est stockée sous la forme de 0 et de 1. Pour une valeur d'index donné on retrouve une seule colonne ayant la valeur 1. Cette colonne correspond à la catégorie pour l'index donné."
   ]
  },
  {
   "cell_type": "code",
   "execution_count": 37,
   "metadata": {
    "scrolled": true
   },
   "outputs": [
    {
     "data": {
      "text/html": [
       "<div>\n",
       "<style scoped>\n",
       "    .dataframe tbody tr th:only-of-type {\n",
       "        vertical-align: middle;\n",
       "    }\n",
       "\n",
       "    .dataframe tbody tr th {\n",
       "        vertical-align: top;\n",
       "    }\n",
       "\n",
       "    .dataframe thead th {\n",
       "        text-align: right;\n",
       "    }\n",
       "</style>\n",
       "<table border=\"1\" class=\"dataframe\">\n",
       "  <thead>\n",
       "    <tr style=\"text-align: right;\">\n",
       "      <th></th>\n",
       "      <th>Neighborhood_1</th>\n",
       "      <th>Neighborhood_2</th>\n",
       "      <th>Neighborhood_3</th>\n",
       "      <th>Neighborhood_4</th>\n",
       "      <th>Neighborhood_5</th>\n",
       "      <th>Neighborhood_6</th>\n",
       "    </tr>\n",
       "  </thead>\n",
       "  <tbody>\n",
       "    <tr>\n",
       "      <th>0</th>\n",
       "      <td>1</td>\n",
       "      <td>0</td>\n",
       "      <td>0</td>\n",
       "      <td>0</td>\n",
       "      <td>0</td>\n",
       "      <td>0</td>\n",
       "    </tr>\n",
       "    <tr>\n",
       "      <th>1</th>\n",
       "      <td>0</td>\n",
       "      <td>1</td>\n",
       "      <td>0</td>\n",
       "      <td>0</td>\n",
       "      <td>0</td>\n",
       "      <td>0</td>\n",
       "    </tr>\n",
       "    <tr>\n",
       "      <th>2</th>\n",
       "      <td>0</td>\n",
       "      <td>0</td>\n",
       "      <td>1</td>\n",
       "      <td>0</td>\n",
       "      <td>0</td>\n",
       "      <td>0</td>\n",
       "    </tr>\n",
       "    <tr>\n",
       "      <th>3</th>\n",
       "      <td>0</td>\n",
       "      <td>0</td>\n",
       "      <td>0</td>\n",
       "      <td>1</td>\n",
       "      <td>0</td>\n",
       "      <td>0</td>\n",
       "    </tr>\n",
       "    <tr>\n",
       "      <th>4</th>\n",
       "      <td>0</td>\n",
       "      <td>0</td>\n",
       "      <td>0</td>\n",
       "      <td>0</td>\n",
       "      <td>1</td>\n",
       "      <td>0</td>\n",
       "    </tr>\n",
       "    <tr>\n",
       "      <th>5</th>\n",
       "      <td>0</td>\n",
       "      <td>0</td>\n",
       "      <td>0</td>\n",
       "      <td>0</td>\n",
       "      <td>0</td>\n",
       "      <td>1</td>\n",
       "    </tr>\n",
       "    <tr>\n",
       "      <th>6</th>\n",
       "      <td>0</td>\n",
       "      <td>1</td>\n",
       "      <td>0</td>\n",
       "      <td>0</td>\n",
       "      <td>0</td>\n",
       "      <td>0</td>\n",
       "    </tr>\n",
       "  </tbody>\n",
       "</table>\n",
       "</div>"
      ],
      "text/plain": [
       "   Neighborhood_1  Neighborhood_2  Neighborhood_3  Neighborhood_4  \\\n",
       "0               1               0               0               0   \n",
       "1               0               1               0               0   \n",
       "2               0               0               1               0   \n",
       "3               0               0               0               1   \n",
       "4               0               0               0               0   \n",
       "5               0               0               0               0   \n",
       "6               0               1               0               0   \n",
       "\n",
       "   Neighborhood_5  Neighborhood_6  \n",
       "0               0               0  \n",
       "1               0               0  \n",
       "2               0               0  \n",
       "3               0               0  \n",
       "4               1               0  \n",
       "5               0               1  \n",
       "6               0               0  "
      ]
     },
     "execution_count": 37,
     "metadata": {},
     "output_type": "execute_result"
    }
   ],
   "source": [
    "encoder = ce.one_hot.OneHotEncoder()\n",
    "encoder.fit_transform(X)"
   ]
  },
  {
   "cell_type": "markdown",
   "metadata": {},
   "source": [
    "Dans cet exemple, \n",
    "* Neighborhood_1 = LAKE UNION\n",
    "* Neighborhood_2 = SOUTHEAST\n",
    "* Neighborhood_3 = NORTHWEST\n",
    "* Neighborhood_4 = GREATER DUWAMISH\n",
    "* Neighborhood_5 = MAGNOLIA / QUEEN ANNE"
   ]
  },
  {
   "cell_type": "markdown",
   "metadata": {},
   "source": [
    "Caractéristiques :\n",
    "* Avantage : pas de relation d'ordre entre les catégories\n",
    "* Inconvénient : crée un nombre de variables important, ce qui peut poser problème en fonction du modèle"
   ]
  },
  {
   "cell_type": "markdown",
   "metadata": {},
   "source": [
    "##### Sum Coding"
   ]
  },
  {
   "cell_type": "markdown",
   "metadata": {},
   "source": [
    "La méthode Sum Coding stocke l'information sur k-1 colonne k étant le nombre de catégorie. Cela est possible car une colonne est remplacée par la valeur -1 sur toute la ligne. L'information est stockée sous forme de 1, 0 et 1."
   ]
  },
  {
   "cell_type": "code",
   "execution_count": 38,
   "metadata": {},
   "outputs": [
    {
     "data": {
      "text/html": [
       "<div>\n",
       "<style scoped>\n",
       "    .dataframe tbody tr th:only-of-type {\n",
       "        vertical-align: middle;\n",
       "    }\n",
       "\n",
       "    .dataframe tbody tr th {\n",
       "        vertical-align: top;\n",
       "    }\n",
       "\n",
       "    .dataframe thead th {\n",
       "        text-align: right;\n",
       "    }\n",
       "</style>\n",
       "<table border=\"1\" class=\"dataframe\">\n",
       "  <thead>\n",
       "    <tr style=\"text-align: right;\">\n",
       "      <th></th>\n",
       "      <th>intercept</th>\n",
       "      <th>Neighborhood_0</th>\n",
       "      <th>Neighborhood_1</th>\n",
       "      <th>Neighborhood_2</th>\n",
       "      <th>Neighborhood_3</th>\n",
       "      <th>Neighborhood_4</th>\n",
       "    </tr>\n",
       "  </thead>\n",
       "  <tbody>\n",
       "    <tr>\n",
       "      <th>0</th>\n",
       "      <td>1</td>\n",
       "      <td>1.0</td>\n",
       "      <td>0.0</td>\n",
       "      <td>0.0</td>\n",
       "      <td>0.0</td>\n",
       "      <td>0.0</td>\n",
       "    </tr>\n",
       "    <tr>\n",
       "      <th>1</th>\n",
       "      <td>1</td>\n",
       "      <td>0.0</td>\n",
       "      <td>1.0</td>\n",
       "      <td>0.0</td>\n",
       "      <td>0.0</td>\n",
       "      <td>0.0</td>\n",
       "    </tr>\n",
       "    <tr>\n",
       "      <th>2</th>\n",
       "      <td>1</td>\n",
       "      <td>0.0</td>\n",
       "      <td>0.0</td>\n",
       "      <td>1.0</td>\n",
       "      <td>0.0</td>\n",
       "      <td>0.0</td>\n",
       "    </tr>\n",
       "    <tr>\n",
       "      <th>3</th>\n",
       "      <td>1</td>\n",
       "      <td>0.0</td>\n",
       "      <td>0.0</td>\n",
       "      <td>0.0</td>\n",
       "      <td>1.0</td>\n",
       "      <td>0.0</td>\n",
       "    </tr>\n",
       "    <tr>\n",
       "      <th>4</th>\n",
       "      <td>1</td>\n",
       "      <td>0.0</td>\n",
       "      <td>0.0</td>\n",
       "      <td>0.0</td>\n",
       "      <td>0.0</td>\n",
       "      <td>1.0</td>\n",
       "    </tr>\n",
       "    <tr>\n",
       "      <th>5</th>\n",
       "      <td>1</td>\n",
       "      <td>-1.0</td>\n",
       "      <td>-1.0</td>\n",
       "      <td>-1.0</td>\n",
       "      <td>-1.0</td>\n",
       "      <td>-1.0</td>\n",
       "    </tr>\n",
       "    <tr>\n",
       "      <th>6</th>\n",
       "      <td>1</td>\n",
       "      <td>0.0</td>\n",
       "      <td>1.0</td>\n",
       "      <td>0.0</td>\n",
       "      <td>0.0</td>\n",
       "      <td>0.0</td>\n",
       "    </tr>\n",
       "  </tbody>\n",
       "</table>\n",
       "</div>"
      ],
      "text/plain": [
       "   intercept  Neighborhood_0  Neighborhood_1  Neighborhood_2  Neighborhood_3  \\\n",
       "0          1             1.0             0.0             0.0             0.0   \n",
       "1          1             0.0             1.0             0.0             0.0   \n",
       "2          1             0.0             0.0             1.0             0.0   \n",
       "3          1             0.0             0.0             0.0             1.0   \n",
       "4          1             0.0             0.0             0.0             0.0   \n",
       "5          1            -1.0            -1.0            -1.0            -1.0   \n",
       "6          1             0.0             1.0             0.0             0.0   \n",
       "\n",
       "   Neighborhood_4  \n",
       "0             0.0  \n",
       "1             0.0  \n",
       "2             0.0  \n",
       "3             0.0  \n",
       "4             1.0  \n",
       "5            -1.0  \n",
       "6             0.0  "
      ]
     },
     "execution_count": 38,
     "metadata": {},
     "output_type": "execute_result"
    }
   ],
   "source": [
    "encoder = ce.sum_coding.SumEncoder()\n",
    "encoder.fit_transform(X)"
   ]
  },
  {
   "cell_type": "markdown",
   "metadata": {},
   "source": [
    "Dans cet exemple,\n",
    "* Neighborhood_0 : LAKE UNION\n",
    "* Neighborhood_1 : SOUTHEAST\n",
    "* Neighborhood_2 : NORTHWEST\n",
    "* Neighborhood_3 : GREATER DUWAMISH\n",
    "\n",
    "et la catégorie MAGNOLIA / QUEEN ANNE est remplacée par la ligne de -1 que l'on peut voir à la ligne 5.\n",
    "\n",
    "Remarque : cette méthode est similaire à la méthode dummy dans laquelle la catégorie est remplacée par une ligne de 0."
   ]
  },
  {
   "cell_type": "markdown",
   "metadata": {},
   "source": [
    "Caractéristiques : \n",
    "* Avantage : Il n'y a pas de relation d'ordre entre les variables\n",
    "* Inconvénient : On crée un nombre de variable important"
   ]
  },
  {
   "cell_type": "markdown",
   "metadata": {},
   "source": [
    "##### Comparaison de l'encodage sur le modèle de gradient boosting"
   ]
  },
  {
   "cell_type": "markdown",
   "metadata": {},
   "source": [
    "Liste des méthodes d'encodage que l'on va tester."
   ]
  },
  {
   "cell_type": "code",
   "execution_count": 39,
   "metadata": {},
   "outputs": [],
   "source": [
    "encoder_list = [ce.one_hot.OneHotEncoder,\n",
    "                ce.ordinal.OrdinalEncoder,\n",
    "                ce.sum_coding.SumEncoder]"
   ]
  },
  {
   "cell_type": "markdown",
   "metadata": {},
   "source": [
    "On effectue une cross validation pour chaque méthode d'encodage."
   ]
  },
  {
   "cell_type": "code",
   "execution_count": 40,
   "metadata": {},
   "outputs": [
    {
     "name": "stdout",
     "output_type": "stream",
     "text": [
      "<class 'category_encoders.one_hot.OneHotEncoder'>\n",
      "average validation score: 0.740\n",
      "<class 'category_encoders.ordinal.OrdinalEncoder'>\n",
      "average validation score: 0.660\n",
      "<class 'category_encoders.sum_coding.SumEncoder'>\n",
      "average validation score: 0.711\n"
     ]
    }
   ],
   "source": [
    "numeric_features = X_train.select_dtypes(include=['int64', 'float64']).columns\n",
    "categorical_features = X_train.select_dtypes(include=['object']).columns\n",
    "\n",
    "numeric_transformer = Pipeline(steps=[('scaler', StandardScaler())])\n",
    "\n",
    "for encoder in encoder_list:\n",
    "\n",
    "    categorical_transformer = Pipeline(steps=[('encoder', encoder())])\n",
    "\n",
    "    preprocessor = ColumnTransformer(transformers=[\n",
    "            ('num', numeric_transformer, numeric_features),\n",
    "            ('cat', categorical_transformer, categorical_features)])\n",
    "\n",
    "    model = Pipeline(steps=[('preprocessor', preprocessor),('regressor', model_gridcv)])\n",
    "    cv_results = cross_validate(model, X_train, y_train, scoring='r2', cv=5)\n",
    "    print(encoder)\n",
    "    print(\"average validation score: %.3f\" % cv_results['test_score'].mean())"
   ]
  },
  {
   "cell_type": "markdown",
   "metadata": {},
   "source": [
    "Pour la suite de cette étude nous utiliserons ma méthode One Hot."
   ]
  },
  {
   "cell_type": "code",
   "execution_count": 41,
   "metadata": {},
   "outputs": [],
   "source": [
    "numeric_transformer = Pipeline(steps=[('scaler', StandardScaler())])\n",
    "categorical_transformer = Pipeline(steps=[('onehot', ce.one_hot.OneHotEncoder())])\n",
    "\n",
    "preprocessor = ColumnTransformer(transformers=[\n",
    "        ('num', numeric_transformer, numeric_features),\n",
    "        ('cat', categorical_transformer, categorical_features)])\n",
    "\n",
    "gb_pipeline = Pipeline(steps=[('preprocessor', preprocessor),('model', GradientBoostingRegressor(random_state=seed))])"
   ]
  },
  {
   "cell_type": "markdown",
   "metadata": {},
   "source": [
    "#### Etape 2 :  Plage d'hyper-paramètres assez large"
   ]
  },
  {
   "cell_type": "markdown",
   "metadata": {},
   "source": [
    "D'après les résultats des deux grid search, le meilleur modèle est le gradient boosting. Nous allons maintenant chercher à optimiser plus loin les hyper paramètres. Pour cela on va utiliser la méthode de random search.\n",
    "\n",
    "https://scikit-learn.org/stable/modules/generated/sklearn.model_selection.RandomizedSearchCV.html"
   ]
  },
  {
   "cell_type": "markdown",
   "metadata": {},
   "source": [
    "La différence entre RandomizedSearchCV et GridSearchCV est que l'on spécifie beaucoup plus de valeur dans notre grille d'hyper-paramètres avec RandomizedSearchCV. Cela prendrait trop de temps de d'entrainer et de tester l'ensemble des configurations, c'est pourquoi on fixe un nombre d'itérations à essayer de manière aléatoire."
   ]
  },
  {
   "cell_type": "markdown",
   "metadata": {},
   "source": [
    "On définit la plage à étudier des hyper-paramètres en se basant sur les valeurs par défaut et les valeurs ayant donné le meilleur score avec GridSearchCV :\n",
    "* learning_rate : [0.05 à 0.15 pas de 0.01]\n",
    "* n_estimators : [100 à 300 pas de 1]\n",
    "* min_samples_split :  [15 à 45 pas de 1]\n",
    "* min_samples_leaf : [1 à 4 pas de 1]\n",
    "* max_depth : [1 à 9 pas de 1]\n",
    "* max_features : [1 à 7 pas de 1]\n",
    "* max_leaf_nodes : [None]"
   ]
  },
  {
   "cell_type": "code",
   "execution_count": 42,
   "metadata": {},
   "outputs": [],
   "source": [
    "param_grid = {\n",
    "    'model__learning_rate':[x for x in np.linspace(start = 0.05, stop = 0.15, num = 11)],\n",
    "    'model__n_estimators':[int(x) for x in np.linspace(start = 100, stop = 300, num = 201)],\n",
    "    'model__min_samples_split': [int(x) for x in np.linspace(start = 15, stop = 45, num = 31)],\n",
    "    'model__min_samples_leaf': [1,2,3,4],\n",
    "    'model__max_depth': [int(x) for x in np.linspace(start=1, stop=9, num=9)],\n",
    "    'model__max_features': [int(x) for x in np.linspace(start=1, stop=7, num=7)],\n",
    "    'model__max_leaf_nodes': [None]\n",
    "}"
   ]
  },
  {
   "cell_type": "code",
   "execution_count": 43,
   "metadata": {},
   "outputs": [
    {
     "data": {
      "text/plain": [
       "RandomizedSearchCV(cv=5,\n",
       "                   estimator=Pipeline(steps=[('preprocessor',\n",
       "                                              ColumnTransformer(transformers=[('num',\n",
       "                                                                               Pipeline(steps=[('scaler',\n",
       "                                                                                                StandardScaler())]),\n",
       "                                                                               Index(['CouncilDistrictCode', 'PropertyGFATotal', 'PropertyGFAParking',\n",
       "       'PropertyGFABuilding(s)', 'LargestPropertyUseTypeGFA', 'NumberofFloors',\n",
       "       'Latitude', 'Longitude', 'Gas', 'Steam', 'BuildingAge'],\n",
       "      dtype='o...\n",
       "                                        'model__min_samples_leaf': [1, 2, 3, 4],\n",
       "                                        'model__min_samples_split': [15, 16, 17,\n",
       "                                                                     18, 19, 20,\n",
       "                                                                     21, 22, 23,\n",
       "                                                                     24, 25, 26,\n",
       "                                                                     27, 28, 29,\n",
       "                                                                     30, 31, 32,\n",
       "                                                                     33, 34, 35,\n",
       "                                                                     36, 37, 38,\n",
       "                                                                     39, 40, 41,\n",
       "                                                                     42, 43, 44, ...],\n",
       "                                        'model__n_estimators': [100, 101, 102,\n",
       "                                                                103, 104, 105,\n",
       "                                                                106, 107, 108,\n",
       "                                                                109, 110, 111,\n",
       "                                                                112, 113, 114,\n",
       "                                                                115, 116, 117,\n",
       "                                                                118, 119, 120,\n",
       "                                                                121, 122, 123,\n",
       "                                                                124, 125, 126,\n",
       "                                                                127, 128, 129, ...]},\n",
       "                   random_state=0, return_train_score=True, scoring='r2')"
      ]
     },
     "execution_count": 43,
     "metadata": {},
     "output_type": "execute_result"
    }
   ],
   "source": [
    "grid = RandomizedSearchCV(gb_pipeline, param_distributions=param_grid, n_iter=1000, scoring='r2', cv=5, return_train_score=True, random_state=seed)\n",
    "grid.fit(X_train, y_train)\n"
   ]
  },
  {
   "cell_type": "code",
   "execution_count": 44,
   "metadata": {},
   "outputs": [
    {
     "data": {
      "text/plain": [
       "0.7494691562853215"
      ]
     },
     "execution_count": 44,
     "metadata": {},
     "output_type": "execute_result"
    }
   ],
   "source": [
    "grid.best_score_"
   ]
  },
  {
   "cell_type": "code",
   "execution_count": 45,
   "metadata": {},
   "outputs": [
    {
     "data": {
      "text/plain": [
       "{'model__n_estimators': 298,\n",
       " 'model__min_samples_split': 22,\n",
       " 'model__min_samples_leaf': 4,\n",
       " 'model__max_leaf_nodes': None,\n",
       " 'model__max_features': 6,\n",
       " 'model__max_depth': 9,\n",
       " 'model__learning_rate': 0.07}"
      ]
     },
     "execution_count": 45,
     "metadata": {},
     "output_type": "execute_result"
    }
   ],
   "source": [
    "grid.best_params_"
   ]
  },
  {
   "cell_type": "markdown",
   "metadata": {},
   "source": [
    "Ce jeu d'hyper-paramètres permet d'avoir le meilleur score parmi les 1000 itérations qui ont été testées. On stocke donc ce modèle."
   ]
  },
  {
   "cell_type": "code",
   "execution_count": 46,
   "metadata": {},
   "outputs": [],
   "source": [
    "gb_best_params = GradientBoostingRegressor(n_estimators=298,\n",
    "                                           min_samples_split=22,\n",
    "                                           min_samples_leaf=4,\n",
    "                                           max_leaf_nodes=None,\n",
    "                                           max_features=6,\n",
    "                                           max_depth=9,\n",
    "                                           learning_rate=0.07,\n",
    "                                           random_state=seed)"
   ]
  },
  {
   "cell_type": "code",
   "execution_count": 47,
   "metadata": {},
   "outputs": [
    {
     "name": "stdout",
     "output_type": "stream",
     "text": [
      "average validation score: 0.749\n"
     ]
    }
   ],
   "source": [
    "numeric_features = X_train.select_dtypes(include=['int64', 'float64']).columns\n",
    "categorical_features = X_train.select_dtypes(include=['object']).columns\n",
    "\n",
    "numeric_transformer = Pipeline(steps=[('scaler', StandardScaler())])\n",
    "categorical_transformer = Pipeline(steps=[('onehot', ce.one_hot.OneHotEncoder())])\n",
    "\n",
    "preprocessor = ColumnTransformer(transformers=[\n",
    "        ('num', numeric_transformer, numeric_features),\n",
    "        ('cat', categorical_transformer, categorical_features)])\n",
    "\n",
    "gb_pipeline_opti = Pipeline(steps=[('preprocessor', preprocessor),('model', gb_best_params)])\n",
    "cv_results = cross_validate(gb_pipeline_opti, X_train, y_train, scoring='r2', cv=5)\n",
    "print(\"average validation score: %.3f\" % cv_results['test_score'].mean())"
   ]
  },
  {
   "cell_type": "markdown",
   "metadata": {},
   "source": [
    "#### Etape 3 : Features ayant le plus d'importance"
   ]
  },
  {
   "cell_type": "markdown",
   "metadata": {},
   "source": [
    "Dans cette étape nous allons utiliser le meilleur modèle dont on dispose et déterminer l'importance des features sur ce modèle. Pour cela nous allons utiliser la fonction permutation_importance de scikit-learn. Le principe est que l'on mélange les valeurs d'une feature et l'on regarde l'impact sur le score. "
   ]
  },
  {
   "cell_type": "code",
   "execution_count": 48,
   "metadata": {},
   "outputs": [
    {
     "data": {
      "image/png": "[encoded data removed]",
      "text/plain": [
       "<Figure size 1008x576 with 1 Axes>"
      ]
     },
     "metadata": {
      "needs_background": "light"
     },
     "output_type": "display_data"
    }
   ],
   "source": [
    "gb_pipeline_opti.fit(X_train, y_train)\n",
    "result = permutation_importance(gb_pipeline_opti, X_train, y_train, n_repeats=30, n_jobs=2, random_state=seed)\n",
    "sorted_idx = result.importances_mean.argsort()\n",
    "\n",
    "fig, ax = plt.subplots(figsize=(14,8))\n",
    "ax.boxplot(result.importances[sorted_idx].T,\n",
    "           vert=False, labels=X_train.columns[sorted_idx])\n",
    "ax.set_title(\"Permutation Importances Energy (train set)\")\n",
    "fig.tight_layout()\n",
    "plt.show()\n"
   ]
  },
  {
   "cell_type": "markdown",
   "metadata": {},
   "source": [
    "Point important ce classement entre les features dépend du modèle, un mauvais modèle peut donner de l'importance à une feature qui n'est pas importante. Il faut donc prendre du recul sur ce classement car un autre modèle avec les mêmes performances pourrait donner un classement différent."
   ]
  },
  {
   "cell_type": "markdown",
   "metadata": {},
   "source": [
    "On constate plusieurs choses :\n",
    "* PrimaryPropertyType est la variable qui a le plus d'impact sur ce modèle\n",
    "* Ensuite viennent les variables de surface (excepté PropertyGFAParking)  : \n",
    "    * LargestPropertyUseTypeGFA\n",
    "    * surfacePropertyGFABuilding(s) \n",
    "    * PropertyGFATotal\n",
    "\n",
    "* la variable BuildingAge n'apporte presque rien alors que l'on avait vu dans la phase exploratoire que les bâtiments consommait plus avec le temps car la surface des bâtiments augmente. On peut essayer de créer une variable combinant l'âge du bâtiment et la surface\n",
    "* les variables Steam et Gas sont également dans le bas du classement"
   ]
  },
  {
   "cell_type": "markdown",
   "metadata": {},
   "source": [
    "On va maintenant ajouter ou enlever des features afin de voir l'impact sur le score."
   ]
  },
  {
   "cell_type": "markdown",
   "metadata": {},
   "source": [
    "##### suppression de features"
   ]
  },
  {
   "cell_type": "markdown",
   "metadata": {},
   "source": [
    "On fait le choix de conserver une seule variable de surface : PropertyGFABuilding(s)"
   ]
  },
  {
   "cell_type": "code",
   "execution_count": 49,
   "metadata": {},
   "outputs": [],
   "source": [
    "X_train_surface = X_train.drop(axis='columns', columns=['LargestPropertyUseTypeGFA', 'PropertyGFATotal', 'PropertyGFAParking'])\n",
    "X_test_surface = X_test.drop(axis='columns', columns=['LargestPropertyUseTypeGFA', 'PropertyGFATotal', 'PropertyGFAParking'])"
   ]
  },
  {
   "cell_type": "markdown",
   "metadata": {},
   "source": [
    "##### ajout de features"
   ]
  },
  {
   "cell_type": "markdown",
   "metadata": {},
   "source": [
    "On construit ensuite des fonctions pour ajouter des variables. Pendant l'exploration on a constaté que les consommation d'énergie moyenne sont différentes entre les groupes de bâtiments ayant une même classe d'âge. La surface ayant un rôle important, en combinant ces deux variables on pourrait peut-être avoir de meilleurs performances. De plus, diviser par une surface ou par un age permet de normaliser les données. On crée donc deux variables : \n",
    "* BuildingAge/PropertyGFABuilding(s)\n",
    "* PropertyGFABuilding(s)/BuildingAge"
   ]
  },
  {
   "cell_type": "code",
   "execution_count": 50,
   "metadata": {},
   "outputs": [],
   "source": [
    "def addBuildingAgeOverSurface(df):\n",
    "    newdf = df.copy()\n",
    "    newdf.loc[:,'BuildingAge/PropertyGFABuilding(s)'] = np.nan\n",
    "    index_logic = newdf.loc[:,'PropertyGFABuilding(s)'] > 0\n",
    "    newdf.loc[index_logic,'BuildingAge/PropertyGFABuilding(s)'] = newdf.loc[index_logic,'BuildingAge'] / newdf.loc[index_logic,'PropertyGFABuilding(s)']\n",
    "    \n",
    "    return newdf"
   ]
  },
  {
   "cell_type": "code",
   "execution_count": 51,
   "metadata": {},
   "outputs": [],
   "source": [
    "def addSurfaceOverBuildingAge(df):\n",
    "    newdf = df.copy()\n",
    "    newdf.loc[:,'PropertyGFABuilding(s)/BuildingAge'] = np.nan\n",
    "    index_logic = newdf.loc[:,'BuildingAge'] > 0\n",
    "    newdf.loc[index_logic,'PropertyGFABuilding(s)/BuildingAge'] = newdf.loc[index_logic,'PropertyGFABuilding(s)'] / newdf.loc[index_logic,'BuildingAge']\n",
    "    \n",
    "    return newdf"
   ]
  },
  {
   "cell_type": "code",
   "execution_count": 52,
   "metadata": {},
   "outputs": [],
   "source": [
    "X_train_addBoS = addBuildingAgeOverSurface(X_train)\n",
    "X_test_addBoS = addBuildingAgeOverSurface(X_test)"
   ]
  },
  {
   "cell_type": "code",
   "execution_count": 53,
   "metadata": {},
   "outputs": [],
   "source": [
    "X_train_addSoB = addSurfaceOverBuildingAge(X_train)\n",
    "X_test_addSoB = addSurfaceOverBuildingAge(X_test)"
   ]
  },
  {
   "cell_type": "markdown",
   "metadata": {},
   "source": [
    "##### Preprocessing"
   ]
  },
  {
   "cell_type": "markdown",
   "metadata": {},
   "source": [
    "Comme on change les features il faut faire le travail de preprocessing pour chaque nouveau modèle. Pour gagner du temps on écrit une fonction qui prend en entrée un modèle et un set de features afin de faire créer le pipeline. "
   ]
  },
  {
   "cell_type": "code",
   "execution_count": 54,
   "metadata": {},
   "outputs": [],
   "source": [
    "def preprocessingPipeline(X_train, model):\n",
    "    numeric_features = X_train.select_dtypes(include=['int64', 'float64']).columns\n",
    "    categorical_features = X_train.select_dtypes(include=['object']).columns\n",
    "\n",
    "    numeric_transformer = Pipeline(steps=[('imputer', KNNImputer(n_neighbors=5, weights='distance')),('scaler', StandardScaler())])\n",
    "    categorical_transformer = Pipeline(steps=[('imputer', SimpleImputer(missing_values=np.nan, strategy='most_frequent')),('onehot', ce.one_hot.OneHotEncoder())])\n",
    "\n",
    "    preprocessor = ColumnTransformer(transformers=[\n",
    "            ('num', numeric_transformer, numeric_features),\n",
    "            ('cat', categorical_transformer, categorical_features)])\n",
    "\n",
    "    gb_pipeline = Pipeline(steps=[('preprocessor', preprocessor),('model', model)])\n",
    "    \n",
    "    return gb_pipeline"
   ]
  },
  {
   "cell_type": "markdown",
   "metadata": {},
   "source": [
    "##### Evaluation"
   ]
  },
  {
   "cell_type": "markdown",
   "metadata": {},
   "source": [
    "On écrit également une fonction qui effectue une cross-validation et ajoute les résultats dans un dataframe."
   ]
  },
  {
   "cell_type": "code",
   "execution_count": 55,
   "metadata": {},
   "outputs": [],
   "source": [
    "def evaluationPipeline(X_train, y_train, model, model_name, df_score):\n",
    "    gb_pipeline = preprocessingPipeline(X_train, model)\n",
    "    cv_results = cross_validate(gb_pipeline, X_train, y_train, scoring='r2', cv=5, return_train_score=True)\n",
    "    df_score = df_score.append({'model': model_name, 'r2': cv_results['train_score'].mean(), 'score': 'train'}, ignore_index=True)\n",
    "    df_score = df_score.append({'model': model_name, 'r2': cv_results['test_score'].mean(), 'score': 'test'}, ignore_index=True)\n",
    "           \n",
    "    return df_score"
   ]
  },
  {
   "cell_type": "markdown",
   "metadata": {},
   "source": [
    "##### Comparaison avec cross-validation"
   ]
  },
  {
   "cell_type": "markdown",
   "metadata": {},
   "source": [
    "On compare avec la cross-validation 4 modèles de gradient boosting ayant le meilleur jeu d'hyper-paramètres que l'on a obtenu à la suite de RandomizedSeachCV. Les différences entre ces modèles se trouvent dans les features :\n",
    "* modèle optimisé : modèle de base avec 14 features \n",
    "* modèle optimisé une seule surface : modèle de base - 3 features de surface \n",
    "* modèle optimisé BuildingAge over Surface : modèle de base + 1 feature BuildingAge/PropertyGFABuilding(s)\n",
    "* modèle optimisé Surface over BuildingAge : modèle de base + 1 feature PropertyGFABuilding(s)/BuildingAge"
   ]
  },
  {
   "cell_type": "code",
   "execution_count": 56,
   "metadata": {},
   "outputs": [],
   "source": [
    "df_score = pd.DataFrame(columns=['model','r2','score'])\n",
    "df_score = evaluationPipeline(X_train, y_train, gb_best_params, 'Modèle optimisé', df_score)\n",
    "df_score = evaluationPipeline(X_train_surface, y_train, gb_best_params, 'Modèle optimisé \\n une seule surface', df_score)\n",
    "df_score = evaluationPipeline(X_train_addBoS, y_train, gb_best_params, 'Modèle optimisé \\n BuildingAge over Surface', df_score)\n",
    "df_score = evaluationPipeline(X_train_addSoB, y_train, gb_best_params, 'Modèle optimisé \\n Surface over BuildingAge', df_score)"
   ]
  },
  {
   "cell_type": "code",
   "execution_count": 57,
   "metadata": {
    "scrolled": true
   },
   "outputs": [
    {
     "data": {
      "text/plain": [
       "<matplotlib.axes._subplots.AxesSubplot at 0x7f48d5792fd0>"
      ]
     },
     "execution_count": 57,
     "metadata": {},
     "output_type": "execute_result"
    },
    {
     "data": {
      "image/png": "[encoded data removed]",
      "text/plain": [
       "<Figure size 432x288 with 1 Axes>"
      ]
     },
     "metadata": {
      "needs_background": "light"
     },
     "output_type": "display_data"
    }
   ],
   "source": [
    "sns.barplot(x='r2', y='model', hue='score', data=df_score)"
   ]
  },
  {
   "cell_type": "code",
   "execution_count": 58,
   "metadata": {},
   "outputs": [
    {
     "data": {
      "text/html": [
       "<div>\n",
       "<style scoped>\n",
       "    .dataframe tbody tr th:only-of-type {\n",
       "        vertical-align: middle;\n",
       "    }\n",
       "\n",
       "    .dataframe tbody tr th {\n",
       "        vertical-align: top;\n",
       "    }\n",
       "\n",
       "    .dataframe thead th {\n",
       "        text-align: right;\n",
       "    }\n",
       "</style>\n",
       "<table border=\"1\" class=\"dataframe\">\n",
       "  <thead>\n",
       "    <tr style=\"text-align: right;\">\n",
       "      <th></th>\n",
       "      <th>model</th>\n",
       "      <th>r2</th>\n",
       "      <th>score</th>\n",
       "    </tr>\n",
       "  </thead>\n",
       "  <tbody>\n",
       "    <tr>\n",
       "      <th>1</th>\n",
       "      <td>Modèle optimisé</td>\n",
       "      <td>0.749469</td>\n",
       "      <td>test</td>\n",
       "    </tr>\n",
       "    <tr>\n",
       "      <th>3</th>\n",
       "      <td>Modèle optimisé \\n une seule surface</td>\n",
       "      <td>0.680006</td>\n",
       "      <td>test</td>\n",
       "    </tr>\n",
       "    <tr>\n",
       "      <th>5</th>\n",
       "      <td>Modèle optimisé \\n BuildingAge over Surface</td>\n",
       "      <td>0.698251</td>\n",
       "      <td>test</td>\n",
       "    </tr>\n",
       "    <tr>\n",
       "      <th>7</th>\n",
       "      <td>Modèle optimisé \\n Surface over BuildingAge</td>\n",
       "      <td>0.713224</td>\n",
       "      <td>test</td>\n",
       "    </tr>\n",
       "  </tbody>\n",
       "</table>\n",
       "</div>"
      ],
      "text/plain": [
       "                                         model        r2 score\n",
       "1                              Modèle optimisé  0.749469  test\n",
       "3         Modèle optimisé \\n une seule surface  0.680006  test\n",
       "5  Modèle optimisé \\n BuildingAge over Surface  0.698251  test\n",
       "7  Modèle optimisé \\n Surface over BuildingAge  0.713224  test"
      ]
     },
     "execution_count": 58,
     "metadata": {},
     "output_type": "execute_result"
    }
   ],
   "source": [
    "df_score.loc[df_score.score == 'test',:]"
   ]
  },
  {
   "cell_type": "markdown",
   "metadata": {},
   "source": [
    "On constate que le modèle de base est celui obtenant le meilleur score de cross-validation. Les ajouts et suppression de features n'ont pas permis d'amélioration du score de cross-validation. On conserve donc le modèle optimisé avec les 14 features pour faire l'évaluation sur le test final."
   ]
  },
  {
   "cell_type": "markdown",
   "metadata": {},
   "source": [
    "### Evaluation finale"
   ]
  },
  {
   "cell_type": "markdown",
   "metadata": {},
   "source": [
    "Dans cette partie nous allons évaluer notre meilleur modèle sur le jeu de test."
   ]
  },
  {
   "cell_type": "markdown",
   "metadata": {},
   "source": [
    "#### Meilleur modèle"
   ]
  },
  {
   "cell_type": "markdown",
   "metadata": {},
   "source": [
    "On redéfinit notre meilleur modèle."
   ]
  },
  {
   "cell_type": "code",
   "execution_count": 59,
   "metadata": {},
   "outputs": [],
   "source": [
    "gb_best_params = GradientBoostingRegressor(n_estimators=298,\n",
    "                                           min_samples_split=22,\n",
    "                                           min_samples_leaf=4,\n",
    "                                           max_leaf_nodes=None,\n",
    "                                           max_features=6,\n",
    "                                           max_depth=9,\n",
    "                                           learning_rate=0.07,\n",
    "                                           random_state=seed)"
   ]
  },
  {
   "cell_type": "code",
   "execution_count": 60,
   "metadata": {},
   "outputs": [
    {
     "name": "stdout",
     "output_type": "stream",
     "text": [
      "average validation score: 0.749\n"
     ]
    }
   ],
   "source": [
    "numeric_features = X_train.select_dtypes(include=['int64', 'float64']).columns\n",
    "categorical_features = X_train.select_dtypes(include=['object']).columns\n",
    "\n",
    "numeric_transformer = Pipeline(steps=[('scaler', StandardScaler())])\n",
    "categorical_transformer = Pipeline(steps=[('onehot', ce.one_hot.OneHotEncoder())])\n",
    "\n",
    "preprocessor = ColumnTransformer(transformers=[\n",
    "        ('num', numeric_transformer, numeric_features),\n",
    "        ('cat', categorical_transformer, categorical_features)])\n",
    "\n",
    "gb_pipeline_opti = Pipeline(steps=[('preprocessor', preprocessor),('model', gb_best_params)])\n",
    "cv_results = cross_validate(gb_pipeline_opti, X_train, y_train, scoring='r2', cv=5)\n",
    "print(\"average validation score: %.3f\" % cv_results['test_score'].mean())"
   ]
  },
  {
   "cell_type": "markdown",
   "metadata": {},
   "source": [
    "#### Learning Curve"
   ]
  },
  {
   "cell_type": "markdown",
   "metadata": {},
   "source": [
    "On s'intéresse également à la courbe d'apprentissage qui permet de voir le score en fonction de la quantité de données utilisées."
   ]
  },
  {
   "cell_type": "code",
   "execution_count": 61,
   "metadata": {},
   "outputs": [],
   "source": [
    "from sklearn.model_selection import learning_curve\n",
    "\n",
    "def plotLearningCurve(model, X_train, y_train):\n",
    "    N, train_score, val_score = learning_curve(model, X_train, y_train, train_sizes=np.linspace(0.1,1,10), cv = 5)\n",
    "    plt.plot(N, train_score.mean(axis=1), label='train')\n",
    "    plt.plot(N, val_score.mean(axis=1), label='validation')\n",
    "    plt.legend()"
   ]
  },
  {
   "cell_type": "code",
   "execution_count": 62,
   "metadata": {
    "scrolled": true
   },
   "outputs": [
    {
     "data": {
      "image/png": "[encoded data removed]",
      "text/plain": [
       "<Figure size 432x288 with 1 Axes>"
      ]
     },
     "metadata": {
      "needs_background": "light"
     },
     "output_type": "display_data"
    }
   ],
   "source": [
    "plotLearningCurve(gb_pipeline_opti, X_train, y_train)"
   ]
  },
  {
   "cell_type": "markdown",
   "metadata": {},
   "source": [
    "On constate que le score de cross-validation n'est pas encore stabilisé ce qui signifie que avoir plus de données pourrait permettre d'améliorer le score."
   ]
  },
  {
   "cell_type": "markdown",
   "metadata": {},
   "source": [
    "#### Evaluation sur le test set"
   ]
  },
  {
   "cell_type": "markdown",
   "metadata": {},
   "source": [
    "On effectue l'evaluation finale sur le jeu de test."
   ]
  },
  {
   "cell_type": "code",
   "execution_count": 63,
   "metadata": {},
   "outputs": [
    {
     "name": "stdout",
     "output_type": "stream",
     "text": [
      "Le score r2 du meilleur modèle est de 0.44\n"
     ]
    }
   ],
   "source": [
    "gb_pipeline_opti.fit(X_train, y_train)\n",
    "y_pred = gb_pipeline_opti.predict(X_test)\n",
    "test_score = r2_score(y_test, y_pred)\n",
    "print(f'Le score r2 du meilleur modèle est de {test_score:0.2f}')"
   ]
  },
  {
   "cell_type": "markdown",
   "metadata": {},
   "source": [
    "#### Evaluation du model selon une variable catégorielle"
   ]
  },
  {
   "cell_type": "markdown",
   "metadata": {},
   "source": [
    "On calcule l'erreur relative que l'on va observer en fonction de l'usage des bâtiments."
   ]
  },
  {
   "cell_type": "code",
   "execution_count": 64,
   "metadata": {},
   "outputs": [
    {
     "name": "stdout",
     "output_type": "stream",
     "text": [
      "erreur relative moyenne (%) :\n",
      "67.11\n"
     ]
    }
   ],
   "source": [
    "df_score = X_test_knn.copy()\n",
    "df_score.loc[:,'erreur relative sur la consommation d\\'énergie (%)'] = (y_pred - y_test)/abs(y_test) * 100\n",
    "print('erreur relative moyenne (%) :')\n",
    "print(round(df_score['erreur relative sur la consommation d\\'énergie (%)'].mean(),2))"
   ]
  },
  {
   "cell_type": "code",
   "execution_count": 65,
   "metadata": {},
   "outputs": [
    {
     "data": {
      "text/plain": [
       "67.10752403195666"
      ]
     },
     "execution_count": 65,
     "metadata": {},
     "output_type": "execute_result"
    }
   ],
   "source": [
    "df_score.loc[:,'erreur relative sur la consommation d\\'énergie (%)'].mean()"
   ]
  },
  {
   "cell_type": "code",
   "execution_count": 66,
   "metadata": {},
   "outputs": [
    {
     "data": {
      "text/plain": [
       "<matplotlib.axes._subplots.AxesSubplot at 0x7f48d5800cd0>"
      ]
     },
     "execution_count": 66,
     "metadata": {},
     "output_type": "execute_result"
    },
    {
     "data": {
      "image/png": "[encoded data removed]",
      "text/plain": [
       "<Figure size 936x648 with 1 Axes>"
      ]
     },
     "metadata": {
      "needs_background": "light"
     },
     "output_type": "display_data"
    }
   ],
   "source": [
    "plt.figure(figsize=(13,9))\n",
    "#sns.set(font_scale=1.6)\n",
    "sns.boxplot(x='erreur relative sur la consommation d\\'énergie (%)', y='PrimaryPropertyType', data=df_score)\n",
    "sns.swarmplot(x='erreur relative sur la consommation d\\'énergie (%)', y='PrimaryPropertyType', data=df_score, color='black', size=4)"
   ]
  },
  {
   "cell_type": "markdown",
   "metadata": {},
   "source": [
    "On constate que l'erreur relative est très variable selon l'usage des bâtiments. Pour les bâtiments de bureau l'erreur semble acceptable. On constate que pour certains usages l'erreur peut être très importante plus de 1000 % ce qui signifie que l'on fait une prédiction 10 fois plus élevée que la réalité. "
   ]
  },
  {
   "cell_type": "markdown",
   "metadata": {},
   "source": [
    "On peut visualiser dans le détail l'erreur relative pour les hôtels et les bâtiments de bureau."
   ]
  },
  {
   "cell_type": "code",
   "execution_count": 67,
   "metadata": {},
   "outputs": [],
   "source": [
    "index_logic = (df_score.loc[:,'PrimaryPropertyType'] == 'Small- and Mid-Sized Office') | (df_score.loc[:,'PrimaryPropertyType'] == 'Large Office') | (df_score.loc[:,'PrimaryPropertyType'] == 'Hotel')"
   ]
  },
  {
   "cell_type": "code",
   "execution_count": 68,
   "metadata": {},
   "outputs": [
    {
     "data": {
      "text/plain": [
       "<matplotlib.axes._subplots.AxesSubplot at 0x7f48d54173d0>"
      ]
     },
     "execution_count": 68,
     "metadata": {},
     "output_type": "execute_result"
    },
    {
     "data": {
      "image/png": "[encoded data removed]",
      "text/plain": [
       "<Figure size 720x504 with 1 Axes>"
      ]
     },
     "metadata": {
      "needs_background": "light"
     },
     "output_type": "display_data"
    }
   ],
   "source": [
    "plt.figure(figsize=(10,7))\n",
    "#sns.set(font_scale=1.4)\n",
    "sns.boxplot(x='erreur relative sur la consommation d\\'énergie (%)', y='PrimaryPropertyType', data=df_score.loc[index_logic,:])\n",
    "sns.swarmplot(x='erreur relative sur la consommation d\\'énergie (%)', y='PrimaryPropertyType', data=df_score.loc[index_logic,:], color='black')"
   ]
  },
  {
   "cell_type": "code",
   "execution_count": 69,
   "metadata": {
    "scrolled": false
   },
   "outputs": [
    {
     "data": {
      "text/html": [
       "<div>\n",
       "<style scoped>\n",
       "    .dataframe tbody tr th:only-of-type {\n",
       "        vertical-align: middle;\n",
       "    }\n",
       "\n",
       "    .dataframe tbody tr th {\n",
       "        vertical-align: top;\n",
       "    }\n",
       "\n",
       "    .dataframe thead th {\n",
       "        text-align: right;\n",
       "    }\n",
       "</style>\n",
       "<table border=\"1\" class=\"dataframe\">\n",
       "  <thead>\n",
       "    <tr style=\"text-align: right;\">\n",
       "      <th></th>\n",
       "      <th>erreur relative sur la consommation d'énergie (%)</th>\n",
       "    </tr>\n",
       "    <tr>\n",
       "      <th>PrimaryPropertyType</th>\n",
       "      <th></th>\n",
       "    </tr>\n",
       "  </thead>\n",
       "  <tbody>\n",
       "    <tr>\n",
       "      <th>Hotel</th>\n",
       "      <td>34.090073</td>\n",
       "    </tr>\n",
       "    <tr>\n",
       "      <th>Large Office</th>\n",
       "      <td>23.732526</td>\n",
       "    </tr>\n",
       "    <tr>\n",
       "      <th>Small- and Mid-Sized Office</th>\n",
       "      <td>31.627445</td>\n",
       "    </tr>\n",
       "  </tbody>\n",
       "</table>\n",
       "</div>"
      ],
      "text/plain": [
       "                             erreur relative sur la consommation d'énergie (%)\n",
       "PrimaryPropertyType                                                           \n",
       "Hotel                                                                34.090073\n",
       "Large Office                                                         23.732526\n",
       "Small- and Mid-Sized Office                                          31.627445"
      ]
     },
     "execution_count": 69,
     "metadata": {},
     "output_type": "execute_result"
    }
   ],
   "source": [
    "df_score.loc[index_logic,['erreur relative sur la consommation d\\'énergie (%)','PrimaryPropertyType']].groupby('PrimaryPropertyType').mean()"
   ]
  },
  {
   "cell_type": "markdown",
   "metadata": {},
   "source": [
    "L'erreur relative moyenne pour ces bâtiments est comprise entre 20 et 30 % ce qui pourrait très bien être utilisé et remplacer une campagne de mesure. Tout dépend de l'objectif et de la précision nécessaire."
   ]
  },
  {
   "cell_type": "markdown",
   "metadata": {},
   "source": [
    "## Modélisation de CO2"
   ]
  },
  {
   "cell_type": "markdown",
   "metadata": {},
   "source": [
    "On réalise ensuite le même travail pour les émissions de CO2."
   ]
  },
  {
   "cell_type": "code",
   "execution_count": 70,
   "metadata": {},
   "outputs": [],
   "source": [
    "X_train_knn = pd.read_csv('data/X_train_knn.csv', sep=';')\n",
    "X_test_knn = pd.read_csv('data/X_test_knn.csv', sep=';')\n",
    "y_train_knn = pd.read_csv('data/y_train_knn.csv', sep=';')\n",
    "y_test_knn = pd.read_csv('data/y_test_knn.csv', sep=';')"
   ]
  },
  {
   "cell_type": "code",
   "execution_count": 71,
   "metadata": {},
   "outputs": [
    {
     "name": "stdout",
     "output_type": "stream",
     "text": [
      "X_train_knn : (1252, 15)\n",
      "X_test_knn : (313, 15)\n",
      "y_train_knn : (1252, 2)\n",
      "y_test_knn : (313, 2)\n"
     ]
    }
   ],
   "source": [
    "print(f'X_train_knn : {X_train_knn.shape}')\n",
    "print(f'X_test_knn : {X_test_knn.shape}')\n",
    "print(f'y_train_knn : {y_train_knn.shape}')\n",
    "print(f'y_test_knn : {y_test_knn.shape}')"
   ]
  },
  {
   "cell_type": "markdown",
   "metadata": {},
   "source": [
    "On définit dans un premier temps les variables catégoriques et numériques."
   ]
  },
  {
   "cell_type": "code",
   "execution_count": 72,
   "metadata": {},
   "outputs": [],
   "source": [
    "X_train_knn.loc[:,'ZipCode'] = X_train_knn.loc[:,'ZipCode'].astype('object')\n",
    "#X_train_knn.loc[:,'Gas'] = X_train_knn.loc[:,'Gas'].astype('object')\n",
    "#X_train_knn.loc[:,'Steam'] = X_train_knn.loc[:,'Steam'].astype('object')"
   ]
  },
  {
   "cell_type": "code",
   "execution_count": 73,
   "metadata": {},
   "outputs": [
    {
     "name": "stdout",
     "output_type": "stream",
     "text": [
      "<class 'pandas.core.frame.DataFrame'>\n",
      "RangeIndex: 1252 entries, 0 to 1251\n",
      "Data columns (total 15 columns):\n",
      " #   Column                     Non-Null Count  Dtype  \n",
      "---  ------                     --------------  -----  \n",
      " 0   PrimaryPropertyType        1252 non-null   object \n",
      " 1   CouncilDistrictCode        1252 non-null   float64\n",
      " 2   Neighborhood               1252 non-null   object \n",
      " 3   PropertyGFATotal           1252 non-null   float64\n",
      " 4   PropertyGFAParking         1252 non-null   float64\n",
      " 5   PropertyGFABuilding(s)     1252 non-null   float64\n",
      " 6   LargestPropertyUseTypeGFA  1252 non-null   float64\n",
      " 7   ENERGYSTARScore            1252 non-null   float64\n",
      " 8   NumberofFloors             1252 non-null   float64\n",
      " 9   Latitude                   1252 non-null   float64\n",
      " 10  Longitude                  1252 non-null   float64\n",
      " 11  ZipCode                    1252 non-null   object \n",
      " 12  Gas                        1252 non-null   float64\n",
      " 13  Steam                      1252 non-null   float64\n",
      " 14  BuildingAge                1252 non-null   float64\n",
      "dtypes: float64(12), object(3)\n",
      "memory usage: 146.8+ KB\n"
     ]
    }
   ],
   "source": [
    "X_train_knn.info()"
   ]
  },
  {
   "cell_type": "code",
   "execution_count": 74,
   "metadata": {},
   "outputs": [
    {
     "name": "stdout",
     "output_type": "stream",
     "text": [
      "<class 'pandas.core.frame.DataFrame'>\n",
      "RangeIndex: 1252 entries, 0 to 1251\n",
      "Data columns (total 2 columns):\n",
      " #   Column                        Non-Null Count  Dtype  \n",
      "---  ------                        --------------  -----  \n",
      " 0   SiteEnergyUse(kBtu)           1252 non-null   float64\n",
      " 1   GHGEmissions(MetricTonsCO2e)  1252 non-null   float64\n",
      "dtypes: float64(2)\n",
      "memory usage: 19.7 KB\n"
     ]
    }
   ],
   "source": [
    "y_train_knn.info()"
   ]
  },
  {
   "cell_type": "markdown",
   "metadata": {},
   "source": [
    "### Sélection des données"
   ]
  },
  {
   "cell_type": "markdown",
   "metadata": {},
   "source": [
    "Dans un premier temps on fait une copie des variables."
   ]
  },
  {
   "cell_type": "code",
   "execution_count": 75,
   "metadata": {},
   "outputs": [],
   "source": [
    "X_train = X_train_knn.copy()\n",
    "X_test = X_test_knn.copy()\n",
    "y_train = y_train_knn.copy()\n",
    "y_test = y_test_knn.copy()"
   ]
  },
  {
   "cell_type": "markdown",
   "metadata": {},
   "source": [
    "On supprime la variable ENERGYSTARScore."
   ]
  },
  {
   "cell_type": "code",
   "execution_count": 76,
   "metadata": {},
   "outputs": [],
   "source": [
    "X_train = X_train.drop(axis='columns', columns='ENERGYSTARScore')\n",
    "X_test = X_test.drop(axis='columns', columns='ENERGYSTARScore')"
   ]
  },
  {
   "cell_type": "markdown",
   "metadata": {},
   "source": [
    "On supprime la variable consommation d'énergie."
   ]
  },
  {
   "cell_type": "code",
   "execution_count": 77,
   "metadata": {},
   "outputs": [],
   "source": [
    "y_train = y_train.drop(axis='columns', columns='SiteEnergyUse(kBtu)')\n",
    "y_test = y_test.drop(axis='columns', columns='SiteEnergyUse(kBtu)')"
   ]
  },
  {
   "cell_type": "markdown",
   "metadata": {},
   "source": [
    "On convertit ensuite les sorties y en np.ndarray"
   ]
  },
  {
   "cell_type": "code",
   "execution_count": 78,
   "metadata": {},
   "outputs": [],
   "source": [
    "y_train = y_train.to_numpy().ravel()\n",
    "y_test = y_test.to_numpy().ravel()"
   ]
  },
  {
   "cell_type": "markdown",
   "metadata": {},
   "source": [
    ".to_numpy() permet de passer d'un dataframe à un np.ndarray\n",
    "\n",
    ".ravel() permet de changer l'attribut shape passant de (x,1) à (x,)"
   ]
  },
  {
   "cell_type": "code",
   "execution_count": 79,
   "metadata": {},
   "outputs": [
    {
     "data": {
      "text/plain": [
       "(313,)"
      ]
     },
     "execution_count": 79,
     "metadata": {},
     "output_type": "execute_result"
    }
   ],
   "source": [
    "y_test.shape"
   ]
  },
  {
   "cell_type": "markdown",
   "metadata": {},
   "source": [
    "### Modèles à tester"
   ]
  },
  {
   "cell_type": "markdown",
   "metadata": {},
   "source": [
    "On teste les mêmes modèles de départ que pour la consommation d'énergie."
   ]
  },
  {
   "cell_type": "code",
   "execution_count": 80,
   "metadata": {},
   "outputs": [],
   "source": [
    "regressors = [\n",
    "    DummyRegressor(strategy='mean'),\n",
    "    linear_model.LinearRegression(),\n",
    "    linear_model.Ridge(random_state=seed),\n",
    "    linear_model.Lasso(random_state=seed),\n",
    "    RandomForestRegressor(random_state=seed),\n",
    "    GradientBoostingRegressor(random_state=seed)\n",
    "    ]\n"
   ]
  },
  {
   "cell_type": "markdown",
   "metadata": {},
   "source": [
    "### Preprocessing"
   ]
  },
  {
   "cell_type": "markdown",
   "metadata": {},
   "source": [
    "On définit à nouveau l'encodage des variables catégorielles et la normalisation des variables numériques."
   ]
  },
  {
   "cell_type": "code",
   "execution_count": 81,
   "metadata": {},
   "outputs": [],
   "source": [
    "numeric_features = X_train.select_dtypes(include=['int64', 'float64']).columns\n",
    "categorical_features = X_train.select_dtypes(include=['object']).columns\n",
    "\n",
    "numeric_transformer = Pipeline(steps=[('scaler', StandardScaler())])\n",
    "categorical_transformer = Pipeline(steps=[('onehot', OneHotEncoder(handle_unknown='ignore'))])\n",
    "\n",
    "preprocessor = ColumnTransformer(transformers=[\n",
    "        ('num', numeric_transformer, numeric_features),\n",
    "        ('cat', categorical_transformer, categorical_features)])"
   ]
  },
  {
   "cell_type": "markdown",
   "metadata": {},
   "source": [
    "### Evaluation"
   ]
  },
  {
   "cell_type": "markdown",
   "metadata": {},
   "source": [
    "Pour evaluer les modèles entre eux nous allons effectuer une cross validation avec 5 folds. Nous allons stocker ces résultats dans deux dataframe un pour le score et l'autre pour le temps d'excecution."
   ]
  },
  {
   "cell_type": "code",
   "execution_count": 82,
   "metadata": {},
   "outputs": [],
   "source": [
    "df_score = pd.DataFrame(columns=['model','r2','score'])\n",
    "df_time = pd.DataFrame(columns=['model','temps en s','time'])"
   ]
  },
  {
   "cell_type": "markdown",
   "metadata": {},
   "source": [
    "On effectue ensuite une cross validation pour chaque élément de la liste de modèles. "
   ]
  },
  {
   "cell_type": "code",
   "execution_count": 83,
   "metadata": {
    "scrolled": false
   },
   "outputs": [
    {
     "name": "stdout",
     "output_type": "stream",
     "text": [
      "DummyRegressor\n",
      "validation score : -0.003\n",
      "LinearRegression\n",
      "validation score : 0.558\n",
      "Ridge(random_state=\n",
      "validation score : 0.571\n",
      "Lasso(random_state=\n",
      "validation score : 0.581\n",
      "RandomForestRegressor(random_state=\n",
      "validation score : 0.632\n",
      "GradientBoostingRegressor(random_state=\n",
      "validation score : 0.704\n"
     ]
    }
   ],
   "source": [
    "for i, regressor in zip(range(0,len(regressors)*2,2), regressors):\n",
    "    model_name = str(regressor)[:-2]\n",
    "    print(model_name)\n",
    "    model = Pipeline(steps=[('preprocessor', preprocessor),('regressor', regressor)])\n",
    "    cv_results = cross_validate(model, X_train, y_train, scoring='r2', cv=5, return_train_score=True)\n",
    "    # On stocke les résultats\n",
    "    df_score.loc[i] = [model_name,cv_results['train_score'].mean(),'train']\n",
    "    df_score.loc[i+1] = [model_name,cv_results['test_score'].mean(),'validation']\n",
    "    df_time.loc[i] = [model_name,cv_results['fit_time'].mean(),'fit']\n",
    "    df_time.loc[i+1] = [model_name,cv_results['score_time'].mean(),'score']\n",
    "    print(\"validation score : %.3f\" % cv_results['test_score'].mean())"
   ]
  },
  {
   "cell_type": "markdown",
   "metadata": {},
   "source": [
    "On peut maintenant visualiser les résultats. "
   ]
  },
  {
   "cell_type": "code",
   "execution_count": 84,
   "metadata": {},
   "outputs": [
    {
     "data": {
      "text/plain": [
       "<matplotlib.axes._subplots.AxesSubplot at 0x7f48d574ccd0>"
      ]
     },
     "execution_count": 84,
     "metadata": {},
     "output_type": "execute_result"
    },
    {
     "data": {
      "image/png": "[encoded data removed]",
      "text/plain": [
       "<Figure size 432x288 with 1 Axes>"
      ]
     },
     "metadata": {
      "needs_background": "light"
     },
     "output_type": "display_data"
    }
   ],
   "source": [
    "sns.barplot(x='r2', y='model', hue='score', data=df_score)"
   ]
  },
  {
   "cell_type": "code",
   "execution_count": 85,
   "metadata": {},
   "outputs": [
    {
     "data": {
      "text/plain": [
       "[None]"
      ]
     },
     "execution_count": 85,
     "metadata": {},
     "output_type": "execute_result"
    },
    {
     "data": {
      "image/png": "[encoded data removed]",
      "text/plain": [
       "<Figure size 432x288 with 1 Axes>"
      ]
     },
     "metadata": {
      "needs_background": "light"
     },
     "output_type": "display_data"
    }
   ],
   "source": [
    "g = sns.barplot(x='temps en s', y='model', hue='time', data=df_time)\n",
    "g.set(xscale=\"log\")"
   ]
  },
  {
   "cell_type": "markdown",
   "metadata": {},
   "source": [
    "Les modèles obtenant le meilleur r2 sont les modèles de random forest et de gradient boosting. D'un point de vue temps de calcul et temps d'excécution les résultats sont très dispersés, il faut même utiliser une échelle logarithmique pour pouvoir comparer les résultats. Le modèle de random forest est le plus lourd en temps de calcul. Ensuite viennent les modèles gradient boosting et Lasso. Enfin, les modèles de regression linéaire et Ridge sont bien plus léger, ils sont de 10 à 100 fois plus rapides."
   ]
  },
  {
   "cell_type": "markdown",
   "metadata": {},
   "source": [
    "On peut donc conclure que les deux modèles que nous allons étudier en détails sont :\n",
    "* Random Forest\n",
    "* Gradient boosting"
   ]
  },
  {
   "cell_type": "markdown",
   "metadata": {},
   "source": [
    "### Comparaison des meilleurs modèles"
   ]
  },
  {
   "cell_type": "markdown",
   "metadata": {},
   "source": [
    "Pour l'optimisation on utilise la fonction GridSearchCV qui permet de tester une liste d'hyper-paramètres en cross validation. \n",
    "\n",
    "Remarque : le nom du parametre doit commencer par nom du modèle + __ lorsque l'on utilise pipeline. ex : model__alpha"
   ]
  },
  {
   "cell_type": "code",
   "execution_count": 86,
   "metadata": {},
   "outputs": [],
   "source": [
    "grid_list = []"
   ]
  },
  {
   "cell_type": "markdown",
   "metadata": {},
   "source": [
    "#### Random Forest Regressor"
   ]
  },
  {
   "cell_type": "markdown",
   "metadata": {},
   "source": [
    "Documentation : https://scikit-learn.org/stable/modules/generated/sklearn.ensemble.RandomForestRegressor.html"
   ]
  },
  {
   "cell_type": "code",
   "execution_count": 87,
   "metadata": {},
   "outputs": [],
   "source": [
    "rf_pipeline = Pipeline(steps=[('preprocessor', preprocessor),('model', RandomForestRegressor(random_state=seed))])"
   ]
  },
  {
   "cell_type": "markdown",
   "metadata": {},
   "source": [
    "testet 4 ou 5 hyper parametres\n",
    "\n",
    "https://towardsdatascience.com/hyperparameter-tuning-the-random-forest-in-python-using-scikit-learn-28d2aa77dd74"
   ]
  },
  {
   "cell_type": "markdown",
   "metadata": {},
   "source": [
    "Il existe de nombreux hyper-paramètres pour le model de random forest."
   ]
  },
  {
   "cell_type": "code",
   "execution_count": 88,
   "metadata": {
    "scrolled": true
   },
   "outputs": [
    {
     "data": {
      "text/plain": [
       "{'bootstrap': True,\n",
       " 'ccp_alpha': 0.0,\n",
       " 'criterion': 'mse',\n",
       " 'max_depth': None,\n",
       " 'max_features': 'auto',\n",
       " 'max_leaf_nodes': None,\n",
       " 'max_samples': None,\n",
       " 'min_impurity_decrease': 0.0,\n",
       " 'min_impurity_split': None,\n",
       " 'min_samples_leaf': 1,\n",
       " 'min_samples_split': 2,\n",
       " 'min_weight_fraction_leaf': 0.0,\n",
       " 'n_estimators': 100,\n",
       " 'n_jobs': None,\n",
       " 'oob_score': False,\n",
       " 'random_state': 0,\n",
       " 'verbose': 0,\n",
       " 'warm_start': False}"
      ]
     },
     "execution_count": 88,
     "metadata": {},
     "output_type": "execute_result"
    }
   ],
   "source": [
    "rf_pipeline['model'].get_params()"
   ]
  },
  {
   "cell_type": "markdown",
   "metadata": {},
   "source": [
    "Afin de comparer les deux meilleurs modèles nous allons sélectionner seulement 5 hyper-paramètres à faire varier."
   ]
  },
  {
   "cell_type": "code",
   "execution_count": 89,
   "metadata": {},
   "outputs": [],
   "source": [
    "param_grid = {\n",
    "    'model__criterion': ['mse', 'mae'],\n",
    "    'model__max_depth': [None, 5, 10],\n",
    "    'model__max_features': ['auto', 'sqrt'],\n",
    "    'model__min_samples_leaf': [1, 5, 10],\n",
    "    'model__min_samples_split': [2, 10, 20],\n",
    "}"
   ]
  },
  {
   "cell_type": "markdown",
   "metadata": {},
   "source": [
    "On effectue GridSearchCV et on stocke les résultats dans une liste."
   ]
  },
  {
   "cell_type": "code",
   "execution_count": 90,
   "metadata": {
    "scrolled": true
   },
   "outputs": [],
   "source": [
    "grid = GridSearchCV(rf_pipeline, param_grid, scoring='r2', cv=5, return_train_score=True)\n",
    "grid.fit(X_train, y_train)\n",
    "grid_list.append(grid)"
   ]
  },
  {
   "cell_type": "markdown",
   "metadata": {},
   "source": [
    "#### Gradient Boosting"
   ]
  },
  {
   "cell_type": "markdown",
   "metadata": {},
   "source": [
    "https://scikit-learn.org/stable/modules/generated/sklearn.ensemble.GradientBoostingRegressor.html"
   ]
  },
  {
   "cell_type": "code",
   "execution_count": 91,
   "metadata": {},
   "outputs": [],
   "source": [
    "gb_pipeline = Pipeline(steps=[('preprocessor', preprocessor),('model', GradientBoostingRegressor(random_state=seed))])"
   ]
  },
  {
   "cell_type": "markdown",
   "metadata": {},
   "source": [
    "Il existe de nombreux hyper-paramètres pour le model de gradient boosting."
   ]
  },
  {
   "cell_type": "code",
   "execution_count": 92,
   "metadata": {
    "scrolled": true
   },
   "outputs": [
    {
     "data": {
      "text/plain": [
       "{'alpha': 0.9,\n",
       " 'ccp_alpha': 0.0,\n",
       " 'criterion': 'friedman_mse',\n",
       " 'init': None,\n",
       " 'learning_rate': 0.1,\n",
       " 'loss': 'ls',\n",
       " 'max_depth': 3,\n",
       " 'max_features': None,\n",
       " 'max_leaf_nodes': None,\n",
       " 'min_impurity_decrease': 0.0,\n",
       " 'min_impurity_split': None,\n",
       " 'min_samples_leaf': 1,\n",
       " 'min_samples_split': 2,\n",
       " 'min_weight_fraction_leaf': 0.0,\n",
       " 'n_estimators': 100,\n",
       " 'n_iter_no_change': None,\n",
       " 'presort': 'deprecated',\n",
       " 'random_state': 0,\n",
       " 'subsample': 1.0,\n",
       " 'tol': 0.0001,\n",
       " 'validation_fraction': 0.1,\n",
       " 'verbose': 0,\n",
       " 'warm_start': False}"
      ]
     },
     "execution_count": 92,
     "metadata": {},
     "output_type": "execute_result"
    }
   ],
   "source": [
    "gb_pipeline['model'].get_params()"
   ]
  },
  {
   "cell_type": "markdown",
   "metadata": {},
   "source": [
    "Afin de comparer les deux meilleurs modèles nous allons sélectionner seulement 5 hyper-paramètres à faire varier."
   ]
  },
  {
   "cell_type": "code",
   "execution_count": 93,
   "metadata": {},
   "outputs": [],
   "source": [
    "param_grid = {\n",
    "    'model__max_depth': [None, 5, 10],    \n",
    "    'model__max_features': ['auto', 'sqrt'],\n",
    "    'model__min_samples_leaf': [1, 5, 10],\n",
    "    'model__min_samples_split': [2, 10, 20],\n",
    "    'model__n_estimators': [50, 100, 150]\n",
    "}"
   ]
  },
  {
   "cell_type": "markdown",
   "metadata": {},
   "source": [
    "On effectue GridSearchCV et on stocke les résultats dans une liste."
   ]
  },
  {
   "cell_type": "code",
   "execution_count": 94,
   "metadata": {
    "scrolled": true
   },
   "outputs": [],
   "source": [
    "grid = GridSearchCV(gb_pipeline, param_grid, scoring='r2', cv=5, return_train_score=True)\n",
    "grid.fit(X_train, y_train)\n",
    "grid_list.append(grid)"
   ]
  },
  {
   "cell_type": "markdown",
   "metadata": {},
   "source": [
    "On compare les meilleurs résultats moyens pour chaque modèle."
   ]
  },
  {
   "cell_type": "code",
   "execution_count": 95,
   "metadata": {},
   "outputs": [
    {
     "name": "stdout",
     "output_type": "stream",
     "text": [
      "RandomForestRegressor\n",
      "Meilleur score validation : 0.664\n",
      "GradientBoostingRegressor\n",
      "Meilleur score validation : 0.695\n"
     ]
    }
   ],
   "source": [
    "df_score, df_time = best_grid(grid_list)"
   ]
  },
  {
   "cell_type": "code",
   "execution_count": 96,
   "metadata": {},
   "outputs": [
    {
     "data": {
      "text/plain": [
       "<matplotlib.axes._subplots.AxesSubplot at 0x7f48d574dcd0>"
      ]
     },
     "execution_count": 96,
     "metadata": {},
     "output_type": "execute_result"
    },
    {
     "data": {
      "image/png": "[encoded data removed]",
      "text/plain": [
       "<Figure size 432x288 with 1 Axes>"
      ]
     },
     "metadata": {
      "needs_background": "light"
     },
     "output_type": "display_data"
    }
   ],
   "source": [
    "sns.barplot(x='r2', y='model', hue='score', data=df_score)"
   ]
  },
  {
   "cell_type": "code",
   "execution_count": 97,
   "metadata": {},
   "outputs": [
    {
     "data": {
      "text/plain": [
       "[None]"
      ]
     },
     "execution_count": 97,
     "metadata": {},
     "output_type": "execute_result"
    },
    {
     "data": {
      "image/png": "[encoded data removed]",
      "text/plain": [
       "<Figure size 432x288 with 1 Axes>"
      ]
     },
     "metadata": {
      "needs_background": "light"
     },
     "output_type": "display_data"
    }
   ],
   "source": [
    "g = sns.barplot(x='temps en s', y='model', hue='time', data=df_time)\n",
    "g.set(xscale=\"log\")"
   ]
  },
  {
   "cell_type": "markdown",
   "metadata": {},
   "source": [
    "On constate donc que le modèle ayant le meilleur score de validation est le modèle de gradient boosting. Pour avoir une idée des meilleurs hyper-paramètres ont peut afficher ceux qui ont été utilisés pour obtenir le meilleur score."
   ]
  },
  {
   "cell_type": "code",
   "execution_count": 98,
   "metadata": {},
   "outputs": [
    {
     "data": {
      "text/plain": [
       "{'alpha': 0.9,\n",
       " 'ccp_alpha': 0.0,\n",
       " 'criterion': 'friedman_mse',\n",
       " 'init': None,\n",
       " 'learning_rate': 0.1,\n",
       " 'loss': 'ls',\n",
       " 'max_depth': 5,\n",
       " 'max_features': 'auto',\n",
       " 'max_leaf_nodes': None,\n",
       " 'min_impurity_decrease': 0.0,\n",
       " 'min_impurity_split': None,\n",
       " 'min_samples_leaf': 1,\n",
       " 'min_samples_split': 2,\n",
       " 'min_weight_fraction_leaf': 0.0,\n",
       " 'n_estimators': 50,\n",
       " 'n_iter_no_change': None,\n",
       " 'presort': 'deprecated',\n",
       " 'random_state': 0,\n",
       " 'subsample': 1.0,\n",
       " 'tol': 0.0001,\n",
       " 'validation_fraction': 0.1,\n",
       " 'verbose': 0,\n",
       " 'warm_start': False}"
      ]
     },
     "execution_count": 98,
     "metadata": {},
     "output_type": "execute_result"
    }
   ],
   "source": [
    "grid_list[1].best_estimator_['model'].get_params()"
   ]
  },
  {
   "cell_type": "code",
   "execution_count": 99,
   "metadata": {},
   "outputs": [
    {
     "data": {
      "text/plain": [
       "{'model__max_depth': 5,\n",
       " 'model__max_features': 'auto',\n",
       " 'model__min_samples_leaf': 1,\n",
       " 'model__min_samples_split': 2,\n",
       " 'model__n_estimators': 50}"
      ]
     },
     "execution_count": 99,
     "metadata": {},
     "output_type": "execute_result"
    }
   ],
   "source": [
    "grid_list[1].best_params_"
   ]
  },
  {
   "cell_type": "markdown",
   "metadata": {},
   "source": [
    "On stocke ce modèle."
   ]
  },
  {
   "cell_type": "code",
   "execution_count": 100,
   "metadata": {},
   "outputs": [],
   "source": [
    "model_gridcv = GradientBoostingRegressor(max_depth=grid_list[1].best_params_['model__max_depth'],\n",
    "                                         max_features=grid_list[1].best_params_['model__max_features'],\n",
    "                                         min_samples_leaf=grid_list[1].best_params_['model__min_samples_leaf'],\n",
    "                                         min_samples_split=grid_list[1].best_params_['model__min_samples_split'],\n",
    "                                         n_estimators=grid_list[1].best_params_['model__n_estimators'],\n",
    "                                         random_state=seed)"
   ]
  },
  {
   "cell_type": "markdown",
   "metadata": {},
   "source": [
    "### Optimisation du meilleur modèle"
   ]
  },
  {
   "cell_type": "markdown",
   "metadata": {},
   "source": [
    "On a déterminé que le meilleur modèle était le modèle de gradient boosting. On va maintenant essayer de pousser plus loin l'optimisation de ce modèle en 3 étapes :\n",
    "* Optimisation de l'encodage\n",
    "* Optimisation plus complète des hyper-paramètres\n",
    "* Optimisation des features"
   ]
  },
  {
   "cell_type": "markdown",
   "metadata": {},
   "source": [
    "#### Etape 1 :  Optimisation de l'encodage des variables catégoriques"
   ]
  },
  {
   "cell_type": "markdown",
   "metadata": {},
   "source": [
    "Liste des méthodes d'encodage que l'on va tester."
   ]
  },
  {
   "cell_type": "code",
   "execution_count": 101,
   "metadata": {},
   "outputs": [],
   "source": [
    "encoder_list = [ce.one_hot.OneHotEncoder,\n",
    "                ce.ordinal.OrdinalEncoder,\n",
    "                ce.sum_coding.SumEncoder]"
   ]
  },
  {
   "cell_type": "markdown",
   "metadata": {},
   "source": [
    "On effectue une cross validation pour chaque méthode d'encodage."
   ]
  },
  {
   "cell_type": "code",
   "execution_count": 102,
   "metadata": {},
   "outputs": [
    {
     "name": "stdout",
     "output_type": "stream",
     "text": [
      "<class 'category_encoders.one_hot.OneHotEncoder'>\n",
      "average validation score: 0.693\n",
      "<class 'category_encoders.ordinal.OrdinalEncoder'>\n",
      "average validation score: 0.581\n",
      "<class 'category_encoders.sum_coding.SumEncoder'>\n",
      "average validation score: 0.689\n"
     ]
    }
   ],
   "source": [
    "numeric_features = X_train.select_dtypes(include=['int64', 'float64']).columns\n",
    "categorical_features = X_train.select_dtypes(include=['object']).columns\n",
    "\n",
    "numeric_transformer = Pipeline(steps=[('scaler', StandardScaler())])\n",
    "\n",
    "for encoder in encoder_list:\n",
    "\n",
    "    categorical_transformer = Pipeline(steps=[('encoder', encoder())])\n",
    "\n",
    "    preprocessor = ColumnTransformer(transformers=[\n",
    "            ('num', numeric_transformer, numeric_features),\n",
    "            ('cat', categorical_transformer, categorical_features)])\n",
    "\n",
    "    model = Pipeline(steps=[('preprocessor', preprocessor),('regressor', model_gridcv)])\n",
    "    cv_results = cross_validate(model, X_train, y_train, scoring='r2', cv=5)\n",
    "    print(encoder)\n",
    "    print(\"average validation score: %.3f\" % cv_results['test_score'].mean())"
   ]
  },
  {
   "cell_type": "markdown",
   "metadata": {},
   "source": [
    "Pour la suite de cette étude nous utiliserons ma méthode One Hot."
   ]
  },
  {
   "cell_type": "code",
   "execution_count": 103,
   "metadata": {},
   "outputs": [],
   "source": [
    "numeric_transformer = Pipeline(steps=[('scaler', StandardScaler())])\n",
    "categorical_transformer = Pipeline(steps=[('onehot', ce.one_hot.OneHotEncoder())])\n",
    "\n",
    "preprocessor = ColumnTransformer(transformers=[\n",
    "        ('num', numeric_transformer, numeric_features),\n",
    "        ('cat', categorical_transformer, categorical_features)])\n",
    "\n",
    "gb_pipeline = Pipeline(steps=[('preprocessor', preprocessor),('model', GradientBoostingRegressor(random_state=seed))])"
   ]
  },
  {
   "cell_type": "markdown",
   "metadata": {},
   "source": [
    "#### Etape 2 :  Plage d'hyper-paramètres assez large"
   ]
  },
  {
   "cell_type": "markdown",
   "metadata": {},
   "source": [
    "D'après les résultats des deux grid search, le meilleur modèle est le gradient boosting. Nous allons maintenant chercher à optimiser plus loin les hyper paramètres. Pour cela on va utiliser la méthode de random search.\n",
    "\n",
    "https://scikit-learn.org/stable/modules/generated/sklearn.model_selection.RandomizedSearchCV.html"
   ]
  },
  {
   "cell_type": "markdown",
   "metadata": {},
   "source": [
    "La différence entre RandomizedSearchCV et GridSearchCV est que l'on spécifie beaucoup plus de valeur dans notre grille d'hyper-paramètres avec RandomizedSearchCV. Cela prendrait trop de temps de d'entrainer et de tester l'ensemble des configurations, c'est pourquoi on fixe un nombre d'itérations à essayer."
   ]
  },
  {
   "cell_type": "markdown",
   "metadata": {},
   "source": [
    "On définit la plage à étudier des hyper-paramètres en se basant sur les valeurs par défaut et les valeurs ayant donné le meilleur score avec GridSearchCV : \n",
    "* learning_rate : [0.01 à 0.5 pas de 0.01]\n",
    "* n_estimators : [20 à 80 pas de 1]\n",
    "* min_samples_split :  [2]\n",
    "* min_samples_leaf : [1 à 4 pas de 1]\n",
    "* max_depth : [1 à 9 pas de 1]\n",
    "* max_features : [5 à 15 pas de 1]\n",
    "* max_leaf_nodes : [None]"
   ]
  },
  {
   "cell_type": "markdown",
   "metadata": {},
   "source": [
    "Maintenant que l'on connait la plage la plus intéressante des hyper-paramètres, on cherche à trouver le meilleur jeu d'hyper-paramètres. Pour cela on effectue un dernier RandomizedSearchCV."
   ]
  },
  {
   "cell_type": "code",
   "execution_count": 104,
   "metadata": {},
   "outputs": [],
   "source": [
    "param_grid = {\n",
    "    'model__learning_rate':[x*0.01 for x in np.linspace(start = 1, stop = 50, num = 50)],\n",
    "    'model__n_estimators':[int(x) for x in np.linspace(start = 20, stop = 80, num = 61)],\n",
    "    'model__min_samples_split': [2],\n",
    "    'model__min_samples_leaf': [1,2,3,4],\n",
    "    'model__max_depth': [int(x) for x in np.linspace(start=1, stop=9, num=9)],\n",
    "    'model__max_features': [int(x) for x in np.linspace(start=5, stop=15, num=11)],\n",
    "    'model__max_leaf_nodes': [None]\n",
    "}"
   ]
  },
  {
   "cell_type": "code",
   "execution_count": 105,
   "metadata": {},
   "outputs": [
    {
     "data": {
      "text/plain": [
       "RandomizedSearchCV(cv=5,\n",
       "                   estimator=Pipeline(steps=[('preprocessor',\n",
       "                                              ColumnTransformer(transformers=[('num',\n",
       "                                                                               Pipeline(steps=[('scaler',\n",
       "                                                                                                StandardScaler())]),\n",
       "                                                                               Index(['CouncilDistrictCode', 'PropertyGFATotal', 'PropertyGFAParking',\n",
       "       'PropertyGFABuilding(s)', 'LargestPropertyUseTypeGFA', 'NumberofFloors',\n",
       "       'Latitude', 'Longitude', 'Gas', 'Steam', 'BuildingAge'],\n",
       "      dtype='o...\n",
       "                                        'model__max_depth': [1, 2, 3, 4, 5, 6,\n",
       "                                                             7, 8, 9],\n",
       "                                        'model__max_features': [5, 6, 7, 8, 9,\n",
       "                                                                10, 11, 12, 13,\n",
       "                                                                14, 15],\n",
       "                                        'model__max_leaf_nodes': [None],\n",
       "                                        'model__min_samples_leaf': [1, 2, 3, 4],\n",
       "                                        'model__min_samples_split': [2],\n",
       "                                        'model__n_estimators': [20, 21, 22, 23,\n",
       "                                                                24, 25, 26, 27,\n",
       "                                                                28, 29, 30, 31,\n",
       "                                                                32, 33, 34, 35,\n",
       "                                                                36, 37, 38, 39,\n",
       "                                                                40, 41, 42, 43,\n",
       "                                                                44, 45, 46, 47,\n",
       "                                                                48, 49, ...]},\n",
       "                   random_state=0, return_train_score=True, scoring='r2')"
      ]
     },
     "execution_count": 105,
     "metadata": {},
     "output_type": "execute_result"
    }
   ],
   "source": [
    "grid = RandomizedSearchCV(gb_pipeline, param_distributions=param_grid, n_iter=1000, scoring='r2', cv=5, return_train_score=True, random_state=seed)\n",
    "grid.fit(X_train, y_train)\n"
   ]
  },
  {
   "cell_type": "code",
   "execution_count": 106,
   "metadata": {},
   "outputs": [
    {
     "data": {
      "text/plain": [
       "0.7469695420596366"
      ]
     },
     "execution_count": 106,
     "metadata": {},
     "output_type": "execute_result"
    }
   ],
   "source": [
    "grid.best_score_"
   ]
  },
  {
   "cell_type": "code",
   "execution_count": 107,
   "metadata": {},
   "outputs": [
    {
     "data": {
      "text/plain": [
       "{'model__n_estimators': 35,\n",
       " 'model__min_samples_split': 2,\n",
       " 'model__min_samples_leaf': 2,\n",
       " 'model__max_leaf_nodes': None,\n",
       " 'model__max_features': 15,\n",
       " 'model__max_depth': 3,\n",
       " 'model__learning_rate': 0.26}"
      ]
     },
     "execution_count": 107,
     "metadata": {},
     "output_type": "execute_result"
    }
   ],
   "source": [
    "grid.best_params_"
   ]
  },
  {
   "cell_type": "markdown",
   "metadata": {},
   "source": [
    "On stocke le modèle ayant obtenu le meilleur score moyen en cross-validation sur les 1000 itérations testées."
   ]
  },
  {
   "cell_type": "code",
   "execution_count": 108,
   "metadata": {},
   "outputs": [],
   "source": [
    "gb_best_params = GradientBoostingRegressor(n_estimators=35,\n",
    "                                           min_samples_split=2,\n",
    "                                           min_samples_leaf=2,\n",
    "                                           max_leaf_nodes=None,\n",
    "                                           max_features=15,\n",
    "                                           max_depth=3,\n",
    "                                           learning_rate=0.26,\n",
    "                                           random_state=seed)"
   ]
  },
  {
   "cell_type": "code",
   "execution_count": 109,
   "metadata": {},
   "outputs": [
    {
     "name": "stdout",
     "output_type": "stream",
     "text": [
      "average validation score: 0.747\n"
     ]
    }
   ],
   "source": [
    "numeric_features = X_train.select_dtypes(include=['int64', 'float64']).columns\n",
    "categorical_features = X_train.select_dtypes(include=['object']).columns\n",
    "\n",
    "numeric_transformer = Pipeline(steps=[('scaler', StandardScaler())])\n",
    "categorical_transformer = Pipeline(steps=[('onehot', ce.one_hot.OneHotEncoder())])\n",
    "\n",
    "preprocessor = ColumnTransformer(transformers=[\n",
    "        ('num', numeric_transformer, numeric_features),\n",
    "        ('cat', categorical_transformer, categorical_features)])\n",
    "\n",
    "gb_pipeline_opti = Pipeline(steps=[('preprocessor', preprocessor),('model', gb_best_params)])\n",
    "cv_results = cross_validate(gb_pipeline_opti, X_train, y_train, scoring='r2', cv=5)\n",
    "print(\"average validation score: %.3f\" % cv_results['test_score'].mean())"
   ]
  },
  {
   "cell_type": "markdown",
   "metadata": {},
   "source": [
    "#### Etape 3 : Features ayant le plus d'importance"
   ]
  },
  {
   "cell_type": "markdown",
   "metadata": {},
   "source": [
    "Dans cette étape nous allons utiliser le meilleur modèle dont on dispose pour déterminer les features ayant le plus d'importance pour le modèle. Pour cela nous allons utiliser la fonction permutation_importance de scikit-learn de la même manière que pour la consommation d'énergie."
   ]
  },
  {
   "cell_type": "code",
   "execution_count": 110,
   "metadata": {},
   "outputs": [
    {
     "data": {
      "image/png": "[encoded data removed]",
      "text/plain": [
       "<Figure size 1008x576 with 1 Axes>"
      ]
     },
     "metadata": {
      "needs_background": "light"
     },
     "output_type": "display_data"
    }
   ],
   "source": [
    "gb_pipeline_opti.fit(X_train, y_train)\n",
    "result = permutation_importance(gb_pipeline_opti, X_train, y_train, n_repeats=30, n_jobs=2, random_state=seed)\n",
    "sorted_idx = result.importances_mean.argsort()\n",
    "\n",
    "fig, ax = plt.subplots(figsize=(14,8))\n",
    "ax.boxplot(result.importances[sorted_idx].T,\n",
    "           vert=False, labels=X_train.columns[sorted_idx])\n",
    "ax.set_title(\"Permutation Importances CO2 (train set)\")\n",
    "fig.tight_layout()\n",
    "plt.show()\n"
   ]
  },
  {
   "cell_type": "markdown",
   "metadata": {},
   "source": [
    "On constate plusieurs choses : \n",
    "* PrimaryPropertyType est également la variable la plus importante\n",
    "* Ensuite viennent les variables de surface (excepté PropertyGFAParking):\n",
    "    * LargestPropertyUseTypeGFA\n",
    "    * PropertyGFABuilding(s)\n",
    "    * PropertyGFATotal est moins important pour ce modèle par rapport au modèle de consommation d'énergie car son importance est proche des autres variables peu importantes"
   ]
  },
  {
   "cell_type": "markdown",
   "metadata": {},
   "source": [
    "On va donc faire le même travail que pour la consommation d'énergie c'est-à-dire d'ajouter et de supprimer des features pour voir l'impact sur le score."
   ]
  },
  {
   "cell_type": "markdown",
   "metadata": {},
   "source": [
    "##### Suppression de features"
   ]
  },
  {
   "cell_type": "code",
   "execution_count": 111,
   "metadata": {},
   "outputs": [],
   "source": [
    "X_train_surface = X_train.drop(axis='columns', columns=['LargestPropertyUseTypeGFA', 'PropertyGFATotal', 'PropertyGFAParking'])\n",
    "X_test_surface = X_test.drop(axis='columns', columns=['LargestPropertyUseTypeGFA', 'PropertyGFATotal', 'PropertyGFAParking'])"
   ]
  },
  {
   "cell_type": "markdown",
   "metadata": {},
   "source": [
    "##### Ajout de features"
   ]
  },
  {
   "cell_type": "code",
   "execution_count": 112,
   "metadata": {},
   "outputs": [],
   "source": [
    "X_train_addBoS = addBuildingAgeOverSurface(X_train)\n",
    "X_test_addBoS = addBuildingAgeOverSurface(X_test)"
   ]
  },
  {
   "cell_type": "code",
   "execution_count": 113,
   "metadata": {},
   "outputs": [],
   "source": [
    "X_train_addSoB = addSurfaceOverBuildingAge(X_train)\n",
    "X_test_addSoB = addSurfaceOverBuildingAge(X_test)"
   ]
  },
  {
   "cell_type": "code",
   "execution_count": 114,
   "metadata": {},
   "outputs": [],
   "source": [
    "X_train_ENERGYSTARScore = X_train_knn.copy()\n",
    "X_test_ENERGYSTARScore = X_test_knn.copy()"
   ]
  },
  {
   "cell_type": "markdown",
   "metadata": {},
   "source": [
    "##### Comparaison avec cross-validation"
   ]
  },
  {
   "cell_type": "markdown",
   "metadata": {},
   "source": [
    "On compare avec la cross-validation 5 modèles de gradient boosting ayant le meilleur jeu d'hyper-paramètres que l'on a obtenu à la suite de RandomizedSeachCV. Les différences entre ces modèles se trouvent dans les features :\n",
    "* modèle optimisé : modèle de base avec 14 features \n",
    "* modèle optimisé une seule surface : modèle de base - 3 features de surface \n",
    "* modèle optimisé BuildingAge over Surface : modèle de base + 1 feature BuildingAge/PropertyGFABuilding(s)\n",
    "* modèle optimisé Surface over BuildingAge : modèle de base + 1 feature PropertyGFABuilding(s)/BuildingAge\n",
    "* modèle optimisé ENERGYSTARScore : modèle de base + 1 feature ENERGYSTARScore"
   ]
  },
  {
   "cell_type": "code",
   "execution_count": 115,
   "metadata": {},
   "outputs": [],
   "source": [
    "df_score = pd.DataFrame(columns=['model','r2','score'])\n",
    "df_score = evaluationPipeline(X_train, y_train, gb_best_params, 'Modèle optimisé', df_score)\n",
    "df_score = evaluationPipeline(X_train_surface, y_train, gb_best_params, 'Modèle optimisé \\n une seule surface', df_score)\n",
    "df_score = evaluationPipeline(X_train_addBoS, y_train, gb_best_params, 'Modèle optimisé \\n BuildingAge over Surface', df_score)\n",
    "df_score = evaluationPipeline(X_train_addSoB, y_train, gb_best_params, 'Modèle optimisé \\n Surface over BuildingAge', df_score)\n",
    "df_score = evaluationPipeline(X_train_ENERGYSTARScore, y_train, gb_best_params, 'Modèle optimisé \\n ENERGYSTARScore', df_score)"
   ]
  },
  {
   "cell_type": "code",
   "execution_count": 116,
   "metadata": {
    "scrolled": true
   },
   "outputs": [
    {
     "data": {
      "text/plain": [
       "<matplotlib.axes._subplots.AxesSubplot at 0x7f48cc530550>"
      ]
     },
     "execution_count": 116,
     "metadata": {},
     "output_type": "execute_result"
    },
    {
     "data": {
      "image/png": "[encoded data removed]",
      "text/plain": [
       "<Figure size 432x288 with 1 Axes>"
      ]
     },
     "metadata": {
      "needs_background": "light"
     },
     "output_type": "display_data"
    }
   ],
   "source": [
    "sns.barplot(x='r2', y='model', hue='score', data=df_score)"
   ]
  },
  {
   "cell_type": "code",
   "execution_count": 117,
   "metadata": {},
   "outputs": [
    {
     "data": {
      "text/html": [
       "<div>\n",
       "<style scoped>\n",
       "    .dataframe tbody tr th:only-of-type {\n",
       "        vertical-align: middle;\n",
       "    }\n",
       "\n",
       "    .dataframe tbody tr th {\n",
       "        vertical-align: top;\n",
       "    }\n",
       "\n",
       "    .dataframe thead th {\n",
       "        text-align: right;\n",
       "    }\n",
       "</style>\n",
       "<table border=\"1\" class=\"dataframe\">\n",
       "  <thead>\n",
       "    <tr style=\"text-align: right;\">\n",
       "      <th></th>\n",
       "      <th>model</th>\n",
       "      <th>r2</th>\n",
       "      <th>score</th>\n",
       "    </tr>\n",
       "  </thead>\n",
       "  <tbody>\n",
       "    <tr>\n",
       "      <th>1</th>\n",
       "      <td>Modèle optimisé</td>\n",
       "      <td>0.746970</td>\n",
       "      <td>test</td>\n",
       "    </tr>\n",
       "    <tr>\n",
       "      <th>3</th>\n",
       "      <td>Modèle optimisé \\n une seule surface</td>\n",
       "      <td>0.628569</td>\n",
       "      <td>test</td>\n",
       "    </tr>\n",
       "    <tr>\n",
       "      <th>5</th>\n",
       "      <td>Modèle optimisé \\n BuildingAge over Surface</td>\n",
       "      <td>0.676491</td>\n",
       "      <td>test</td>\n",
       "    </tr>\n",
       "    <tr>\n",
       "      <th>7</th>\n",
       "      <td>Modèle optimisé \\n Surface over BuildingAge</td>\n",
       "      <td>0.682406</td>\n",
       "      <td>test</td>\n",
       "    </tr>\n",
       "    <tr>\n",
       "      <th>9</th>\n",
       "      <td>Modèle optimisé \\n ENERGYSTARScore</td>\n",
       "      <td>0.654002</td>\n",
       "      <td>test</td>\n",
       "    </tr>\n",
       "  </tbody>\n",
       "</table>\n",
       "</div>"
      ],
      "text/plain": [
       "                                         model        r2 score\n",
       "1                              Modèle optimisé  0.746970  test\n",
       "3         Modèle optimisé \\n une seule surface  0.628569  test\n",
       "5  Modèle optimisé \\n BuildingAge over Surface  0.676491  test\n",
       "7  Modèle optimisé \\n Surface over BuildingAge  0.682406  test\n",
       "9           Modèle optimisé \\n ENERGYSTARScore  0.654002  test"
      ]
     },
     "execution_count": 117,
     "metadata": {},
     "output_type": "execute_result"
    }
   ],
   "source": [
    "df_score.loc[df_score.score == 'test',:]"
   ]
  },
  {
   "cell_type": "markdown",
   "metadata": {},
   "source": [
    "On constate que le modèle obtenant le meilleur score est le modèle de base."
   ]
  },
  {
   "cell_type": "markdown",
   "metadata": {},
   "source": [
    "### Evaluation finale"
   ]
  },
  {
   "cell_type": "markdown",
   "metadata": {},
   "source": [
    "On va donc maintenant effectuer l'évaluation sur le jeu de test."
   ]
  },
  {
   "cell_type": "markdown",
   "metadata": {},
   "source": [
    "#### Meilleur modèle"
   ]
  },
  {
   "cell_type": "markdown",
   "metadata": {},
   "source": [
    "On redéfinit le meilleur modèle."
   ]
  },
  {
   "cell_type": "code",
   "execution_count": 118,
   "metadata": {},
   "outputs": [],
   "source": [
    "gb_best_params = GradientBoostingRegressor(n_estimators=35,\n",
    "                                           min_samples_split=2,\n",
    "                                           min_samples_leaf=2,\n",
    "                                           max_leaf_nodes=None,\n",
    "                                           max_features=15,\n",
    "                                           max_depth=3,\n",
    "                                           learning_rate=0.26,\n",
    "                                           random_state=seed)"
   ]
  },
  {
   "cell_type": "code",
   "execution_count": 119,
   "metadata": {},
   "outputs": [
    {
     "name": "stdout",
     "output_type": "stream",
     "text": [
      "average validation score: 0.747\n"
     ]
    }
   ],
   "source": [
    "gb_pipeline_opti = preprocessingPipeline(X_train, gb_best_params)\n",
    "cv_results = cross_validate(gb_pipeline_opti, X_train, y_train, scoring='r2', cv=5, return_train_score=True)\n",
    "print(\"average validation score: %.3f\" % cv_results['test_score'].mean())"
   ]
  },
  {
   "cell_type": "markdown",
   "metadata": {},
   "source": [
    "#### Learning Curve"
   ]
  },
  {
   "cell_type": "markdown",
   "metadata": {},
   "source": [
    "On s'intéresse également à la courbe d'apprentissage qui permet de voir si le modèle pourrait s'améliorer si l'on disposait de plus de données."
   ]
  },
  {
   "cell_type": "code",
   "execution_count": 120,
   "metadata": {
    "scrolled": true
   },
   "outputs": [
    {
     "data": {
      "image/png": "[encoded data removed]",
      "text/plain": [
       "<Figure size 432x288 with 1 Axes>"
      ]
     },
     "metadata": {
      "needs_background": "light"
     },
     "output_type": "display_data"
    }
   ],
   "source": [
    "plotLearningCurve(gb_pipeline_opti, X_train, y_train)"
   ]
  },
  {
   "cell_type": "markdown",
   "metadata": {},
   "source": [
    "On constate que le score de validation s'améliore lorsque l'on a plus de données. Cela signifie que l'on pourrait encore améliorer le score en ajoutant des données."
   ]
  },
  {
   "cell_type": "markdown",
   "metadata": {},
   "source": [
    "#### Evaluation sur le test set"
   ]
  },
  {
   "cell_type": "markdown",
   "metadata": {},
   "source": [
    "On effectue l'évaluation finale sur le jeu de test."
   ]
  },
  {
   "cell_type": "code",
   "execution_count": 121,
   "metadata": {},
   "outputs": [
    {
     "name": "stdout",
     "output_type": "stream",
     "text": [
      "Le score r2 du meilleur modèle est de 0.22\n"
     ]
    }
   ],
   "source": [
    "gb_pipeline_opti.fit(X_train, y_train)\n",
    "y_pred = gb_pipeline_opti.predict(X_test)\n",
    "test_score = r2_score(y_test, y_pred)\n",
    "print(f'Le score r2 du meilleur modèle est de {test_score:0.2f}')"
   ]
  },
  {
   "cell_type": "markdown",
   "metadata": {},
   "source": [
    "#### Evaluation du model selon une variable catégorielle"
   ]
  },
  {
   "cell_type": "markdown",
   "metadata": {},
   "source": [
    "On calcule l'erreur relative que l'on va observer en fonction de l'usage des bâtiments."
   ]
  },
  {
   "cell_type": "code",
   "execution_count": 122,
   "metadata": {},
   "outputs": [
    {
     "name": "stdout",
     "output_type": "stream",
     "text": [
      "erreur relative moyenne (%) :\n",
      "79.02\n"
     ]
    }
   ],
   "source": [
    "df_score = X_test_knn.copy()\n",
    "df_score.loc[:,'erreur relative sur les émissions de CO2 (%)'] = (y_pred - y_test)/abs(y_test) * 100\n",
    "print('erreur relative moyenne (%) :')\n",
    "print(round(df_score['erreur relative sur les émissions de CO2 (%)'].mean(),2))"
   ]
  },
  {
   "cell_type": "code",
   "execution_count": 123,
   "metadata": {},
   "outputs": [
    {
     "data": {
      "text/plain": [
       "<matplotlib.axes._subplots.AxesSubplot at 0x7f48cc022eb0>"
      ]
     },
     "execution_count": 123,
     "metadata": {},
     "output_type": "execute_result"
    },
    {
     "data": {
      "image/png": "[encoded data removed]",
      "text/plain": [
       "<Figure size 936x648 with 1 Axes>"
      ]
     },
     "metadata": {
      "needs_background": "light"
     },
     "output_type": "display_data"
    }
   ],
   "source": [
    "plt.figure(figsize=(13,9))\n",
    "#sns.set(font_scale=1.2)\n",
    "sns.boxplot(x='erreur relative sur les émissions de CO2 (%)', y='PrimaryPropertyType', data=df_score)\n",
    "sns.swarmplot(x='erreur relative sur les émissions de CO2 (%)', y='PrimaryPropertyType', data=df_score, color='black', size=4)"
   ]
  },
  {
   "cell_type": "markdown",
   "metadata": {},
   "source": [
    "On constate que l'erreur relative est très dispersée en fonction de l'usage des bâtiments. Certaines catégories ont peu de points ce qui pourrait expliquer cette disparité."
   ]
  },
  {
   "cell_type": "code",
   "execution_count": 124,
   "metadata": {},
   "outputs": [],
   "source": [
    "index_logic = (df_score.loc[:,'PrimaryPropertyType'] == 'Small- and Mid-Sized Office') | (df_score.loc[:,'PrimaryPropertyType'] == 'Large Office') | (df_score.loc[:,'PrimaryPropertyType'] == 'Hotel')"
   ]
  },
  {
   "cell_type": "code",
   "execution_count": 125,
   "metadata": {},
   "outputs": [
    {
     "data": {
      "text/plain": [
       "<matplotlib.axes._subplots.AxesSubplot at 0x7f48cc4a3040>"
      ]
     },
     "execution_count": 125,
     "metadata": {},
     "output_type": "execute_result"
    },
    {
     "data": {
      "image/png": "[encoded data removed]",
      "text/plain": [
       "<Figure size 720x504 with 1 Axes>"
      ]
     },
     "metadata": {
      "needs_background": "light"
     },
     "output_type": "display_data"
    }
   ],
   "source": [
    "plt.figure(figsize=(10,7))\n",
    "#sns.set(font_scale=1.4)\n",
    "sns.boxplot(x='erreur relative sur les émissions de CO2 (%)', y='PrimaryPropertyType', data=df_score.loc[index_logic,:])\n",
    "sns.swarmplot(x='erreur relative sur les émissions de CO2 (%)', y='PrimaryPropertyType', data=df_score.loc[index_logic,:], color='black')"
   ]
  },
  {
   "cell_type": "code",
   "execution_count": 126,
   "metadata": {
    "scrolled": false
   },
   "outputs": [
    {
     "data": {
      "text/html": [
       "<div>\n",
       "<style scoped>\n",
       "    .dataframe tbody tr th:only-of-type {\n",
       "        vertical-align: middle;\n",
       "    }\n",
       "\n",
       "    .dataframe tbody tr th {\n",
       "        vertical-align: top;\n",
       "    }\n",
       "\n",
       "    .dataframe thead th {\n",
       "        text-align: right;\n",
       "    }\n",
       "</style>\n",
       "<table border=\"1\" class=\"dataframe\">\n",
       "  <thead>\n",
       "    <tr style=\"text-align: right;\">\n",
       "      <th></th>\n",
       "      <th>erreur relative sur les émissions de CO2 (%)</th>\n",
       "    </tr>\n",
       "    <tr>\n",
       "      <th>PrimaryPropertyType</th>\n",
       "      <th></th>\n",
       "    </tr>\n",
       "  </thead>\n",
       "  <tbody>\n",
       "    <tr>\n",
       "      <th>Hotel</th>\n",
       "      <td>107.661862</td>\n",
       "    </tr>\n",
       "    <tr>\n",
       "      <th>Large Office</th>\n",
       "      <td>61.098726</td>\n",
       "    </tr>\n",
       "    <tr>\n",
       "      <th>Small- and Mid-Sized Office</th>\n",
       "      <td>-20.066327</td>\n",
       "    </tr>\n",
       "  </tbody>\n",
       "</table>\n",
       "</div>"
      ],
      "text/plain": [
       "                             erreur relative sur les émissions de CO2 (%)\n",
       "PrimaryPropertyType                                                      \n",
       "Hotel                                                          107.661862\n",
       "Large Office                                                    61.098726\n",
       "Small- and Mid-Sized Office                                    -20.066327"
      ]
     },
     "execution_count": 126,
     "metadata": {},
     "output_type": "execute_result"
    }
   ],
   "source": [
    "df_score.loc[index_logic,['erreur relative sur les émissions de CO2 (%)','PrimaryPropertyType']].groupby('PrimaryPropertyType').mean()"
   ]
  },
  {
   "cell_type": "markdown",
   "metadata": {},
   "source": [
    "On constate que l'erreur relative est plus importante que pour la consommation d'énergie."
   ]
  }
 ],
 "metadata": {
  "kernelspec": {
   "display_name": "Python 3",
   "language": "python",
   "name": "python3"
  },
  "language_info": {
   "codemirror_mode": {
    "name": "ipython",
    "version": 3
   },
   "file_extension": ".py",
   "mimetype": "text/x-python",
   "name": "python",
   "nbconvert_exporter": "python",
   "pygments_lexer": "ipython3",
   "version": "3.8.3"
  }
 },
 "nbformat": 4,
 "nbformat_minor": 4
}
